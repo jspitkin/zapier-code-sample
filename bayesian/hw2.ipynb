{
 "cells": [
  {
   "cell_type": "markdown",
   "metadata": {},
   "source": [
    "# Homework 2\n",
    "### Jake Pitkin\n",
    "**CS 6190: Probabilistic Modeling - Spring 2018**<br>\n",
    "**February 19 2018**"
   ]
  },
  {
   "cell_type": "markdown",
   "metadata": {},
   "source": [
    "**1. Create the following Bayesian network to analyze the survey results. You will want to use the provided function createCPTfromData.**\n",
    "\n",
    "<img src=\"img/network.png\" width=\"855\" height=\"611\" align=\"center\"/>\n",
    "\n",
    "First we will create the following Bayesian network using the Behavioral Risk Factor Surveillance System\n",
    "(BRFSS) survey data. The source code for the Bayesian network is located in `bayesian_network.py`."
   ]
  },
  {
   "cell_type": "code",
   "execution_count": 1,
   "metadata": {
    "collapsed": true
   },
   "outputs": [],
   "source": [
    "# Important! Blocks of code depend on each other in this project and should be ran in order.\n",
    "from bayesian_network import *\n",
    "\n",
    "# Read in the dataset\n",
    "data = pd.read_csv(\"RiskFactors.csv\")\n",
    "\n",
    "# Create the Bayesian network from the dataset\n",
    "income = createCPTfromData(data, [\"income\"])\n",
    "bmi = createCPTfromData(data, [\"bmi\", \"income\", \"exercise\"])\n",
    "exercise = createCPTfromData(data, [\"exercise\", \"income\"])\n",
    "smoke = createCPTfromData(data, [\"smoke\", \"income\"])\n",
    "bp = createCPTfromData(data, [\"bp\", \"income\", \"exercise\", \"smoke\"])\n",
    "cholesterol = createCPTfromData(data, [\"cholesterol\", \"income\", \"smoke\", \"exercise\"])\n",
    "diabetes = createCPTfromData(data, [\"diabetes\", \"bmi\"])\n",
    "stroke = createCPTfromData(data, [\"stroke\", \"bmi\", \"bp\", \"cholesterol\"])\n",
    "attack = createCPTfromData(data, [\"attack\", \"bmi\", \"bp\", \"cholesterol\"])\n",
    "angina = createCPTfromData(data, [\"angina\", \"bmi\", \"bp\", \"cholesterol\"])\n",
    "network = [income, bmi, exercise, smoke, bp, cholesterol, diabetes, stroke, attack, angina]\n",
    "variables = [\"income\", \"bmi\", \"exercise\", \"smoke\", \"bp\", \"cholesterol\", \"diabetes\", \"stroke\", \"attack\", \"angina\"]"
   ]
  },
  {
   "cell_type": "markdown",
   "metadata": {
    "collapsed": true
   },
   "source": [
    "**1a. What is the size (in terms of the number of probabilities needed) of this network?**\n",
    "\n",
    "The size of the network can be determined by considering the number of rows in each factor of the network."
   ]
  },
  {
   "cell_type": "code",
   "execution_count": 2,
   "metadata": {},
   "outputs": [
    {
     "name": "stdout",
     "output_type": "stream",
     "text": [
      "504\n"
     ]
    }
   ],
   "source": [
    "rows = 0\n",
    "for factor in network:\n",
    "    rows += factor.shape[0]\n",
    "print(rows)"
   ]
  },
  {
   "cell_type": "markdown",
   "metadata": {},
   "source": [
    "The size of this network is 504 probabilities."
   ]
  },
  {
   "cell_type": "markdown",
   "metadata": {},
   "source": [
    "**1b. What is the total number of probabilities needed to store the full joint distribution?**\n",
    "\n",
    "For the entire joint distribution, we take the product of the number of values each random variable can take:\n",
    "\n",
    "$$\\prod_{i=1}^{10} \\ n(domain_i) = 8 * 2 * 2 * 4 * 4 * 2 * 2 * 2 * 2 * 4 = 32,768$$\n",
    "\n",
    "The size of the full join distribution is 32,768 probabilities."
   ]
  },
  {
   "cell_type": "markdown",
   "metadata": {},
   "source": [
    "**2. For each of the four health outcomes (diabetes, stroke, heart attack, angina), answer the following by querying your network (using your infer function):**"
   ]
  },
  {
   "cell_type": "markdown",
   "metadata": {},
   "source": [
    "**2a. What is the probabilitiy of the outcome if I have bad habits (smoke and don't exercise)?**"
   ]
  },
  {
   "cell_type": "code",
   "execution_count": 3,
   "metadata": {
    "scrolled": false
   },
   "outputs": [
    {
     "name": "stdout",
     "output_type": "stream",
     "text": [
      "Diabetes outcomes with bad habits:\n"
     ]
    },
    {
     "data": {
      "text/html": [
       "<div>\n",
       "<style>\n",
       "    .dataframe thead tr:only-child th {\n",
       "        text-align: right;\n",
       "    }\n",
       "\n",
       "    .dataframe thead th {\n",
       "        text-align: left;\n",
       "    }\n",
       "\n",
       "    .dataframe tbody tr th {\n",
       "        vertical-align: top;\n",
       "    }\n",
       "</style>\n",
       "<table border=\"1\" class=\"dataframe\">\n",
       "  <thead>\n",
       "    <tr style=\"text-align: right;\">\n",
       "      <th></th>\n",
       "      <th>Diabetes</th>\n",
       "      <th>Probability</th>\n",
       "    </tr>\n",
       "  </thead>\n",
       "  <tbody>\n",
       "    <tr>\n",
       "      <th>0</th>\n",
       "      <td>yes</td>\n",
       "      <td>0.159330</td>\n",
       "    </tr>\n",
       "    <tr>\n",
       "      <th>1</th>\n",
       "      <td>only during pregnancy</td>\n",
       "      <td>0.007881</td>\n",
       "    </tr>\n",
       "    <tr>\n",
       "      <th>2</th>\n",
       "      <td>no</td>\n",
       "      <td>0.812632</td>\n",
       "    </tr>\n",
       "    <tr>\n",
       "      <th>3</th>\n",
       "      <td>pre-diabetic</td>\n",
       "      <td>0.020156</td>\n",
       "    </tr>\n",
       "  </tbody>\n",
       "</table>\n",
       "</div>"
      ],
      "text/plain": [
       "                Diabetes  Probability\n",
       "0                    yes     0.159330\n",
       "1  only during pregnancy     0.007881\n",
       "2                     no     0.812632\n",
       "3           pre-diabetic     0.020156"
      ]
     },
     "metadata": {},
     "output_type": "display_data"
    },
    {
     "name": "stdout",
     "output_type": "stream",
     "text": [
      "\n",
      "Stroke outcomes with bad habits:\n"
     ]
    },
    {
     "data": {
      "text/html": [
       "<div>\n",
       "<style>\n",
       "    .dataframe thead tr:only-child th {\n",
       "        text-align: right;\n",
       "    }\n",
       "\n",
       "    .dataframe thead th {\n",
       "        text-align: left;\n",
       "    }\n",
       "\n",
       "    .dataframe tbody tr th {\n",
       "        vertical-align: top;\n",
       "    }\n",
       "</style>\n",
       "<table border=\"1\" class=\"dataframe\">\n",
       "  <thead>\n",
       "    <tr style=\"text-align: right;\">\n",
       "      <th></th>\n",
       "      <th>Stroke</th>\n",
       "      <th>Probability</th>\n",
       "    </tr>\n",
       "  </thead>\n",
       "  <tbody>\n",
       "    <tr>\n",
       "      <th>0</th>\n",
       "      <td>yes</td>\n",
       "      <td>0.050127</td>\n",
       "    </tr>\n",
       "    <tr>\n",
       "      <th>1</th>\n",
       "      <td>no</td>\n",
       "      <td>0.949873</td>\n",
       "    </tr>\n",
       "  </tbody>\n",
       "</table>\n",
       "</div>"
      ],
      "text/plain": [
       "  Stroke  Probability\n",
       "0    yes     0.050127\n",
       "1     no     0.949873"
      ]
     },
     "metadata": {},
     "output_type": "display_data"
    },
    {
     "name": "stdout",
     "output_type": "stream",
     "text": [
      "\n",
      "Heart attack outcomes with bad habits:\n"
     ]
    },
    {
     "data": {
      "text/html": [
       "<div>\n",
       "<style>\n",
       "    .dataframe thead tr:only-child th {\n",
       "        text-align: right;\n",
       "    }\n",
       "\n",
       "    .dataframe thead th {\n",
       "        text-align: left;\n",
       "    }\n",
       "\n",
       "    .dataframe tbody tr th {\n",
       "        vertical-align: top;\n",
       "    }\n",
       "</style>\n",
       "<table border=\"1\" class=\"dataframe\">\n",
       "  <thead>\n",
       "    <tr style=\"text-align: right;\">\n",
       "      <th></th>\n",
       "      <th>Heart Attack</th>\n",
       "      <th>Probability</th>\n",
       "    </tr>\n",
       "  </thead>\n",
       "  <tbody>\n",
       "    <tr>\n",
       "      <th>0</th>\n",
       "      <td>yes</td>\n",
       "      <td>0.072415</td>\n",
       "    </tr>\n",
       "    <tr>\n",
       "      <th>1</th>\n",
       "      <td>no</td>\n",
       "      <td>0.927585</td>\n",
       "    </tr>\n",
       "  </tbody>\n",
       "</table>\n",
       "</div>"
      ],
      "text/plain": [
       "  Heart Attack  Probability\n",
       "0          yes     0.072415\n",
       "1           no     0.927585"
      ]
     },
     "metadata": {},
     "output_type": "display_data"
    },
    {
     "name": "stdout",
     "output_type": "stream",
     "text": [
      "\n",
      "Angina outcomes with bad habits:\n"
     ]
    },
    {
     "data": {
      "text/html": [
       "<div>\n",
       "<style>\n",
       "    .dataframe thead tr:only-child th {\n",
       "        text-align: right;\n",
       "    }\n",
       "\n",
       "    .dataframe thead th {\n",
       "        text-align: left;\n",
       "    }\n",
       "\n",
       "    .dataframe tbody tr th {\n",
       "        vertical-align: top;\n",
       "    }\n",
       "</style>\n",
       "<table border=\"1\" class=\"dataframe\">\n",
       "  <thead>\n",
       "    <tr style=\"text-align: right;\">\n",
       "      <th></th>\n",
       "      <th>Angina</th>\n",
       "      <th>Probability</th>\n",
       "    </tr>\n",
       "  </thead>\n",
       "  <tbody>\n",
       "    <tr>\n",
       "      <th>0</th>\n",
       "      <td>yes</td>\n",
       "      <td>0.077756</td>\n",
       "    </tr>\n",
       "    <tr>\n",
       "      <th>1</th>\n",
       "      <td>no</td>\n",
       "      <td>0.922244</td>\n",
       "    </tr>\n",
       "  </tbody>\n",
       "</table>\n",
       "</div>"
      ],
      "text/plain": [
       "  Angina  Probability\n",
       "0    yes     0.077756\n",
       "1     no     0.922244"
      ]
     },
     "metadata": {},
     "output_type": "display_data"
    },
    {
     "name": "stdout",
     "output_type": "stream",
     "text": [
      "\n"
     ]
    }
   ],
   "source": [
    "# English labels to replace numerical labels before printing table\n",
    "diabetes_labels = [\"yes\", \"only during pregnancy\", \"no\", \"pre-diabetic\"]\n",
    "stroke_labels = [\"yes\", \"no\"]\n",
    "heart_attack_labels = [\"yes\", \"no\"]\n",
    "angina_labels = [\"yes\", \"no\"]\n",
    "\n",
    "# Variables to marginalize out of each inference\n",
    "diabetes_marg = [x for x in variables if x != \"diabetes\"]\n",
    "stroke_marg = [x for x in variables if x != \"stroke\"]\n",
    "heart_attack_marg = [x for x in variables if x != \"attack\"]\n",
    "angina_marg = [x for x in variables if x != \"angina\"]\n",
    "\n",
    "print(\"Diabetes outcomes with bad habits:\")\n",
    "rows = 0\n",
    "diabetes = infer(network, diabetes_marg, [\"smoke\", \"exercise\"], [1, 2])\n",
    "diabetes = diabetes.drop(\"diabetes\", 1)\n",
    "diabetes = diabetes.rename(columns={'probs':'Probability'})\n",
    "diabetes.insert(0, \"Diabetes\", diabetes_labels)\n",
    "display(diabetes)\n",
    "print()\n",
    "\n",
    "print(\"Stroke outcomes with bad habits:\")\n",
    "stroke = infer(network, stroke_marg, [\"smoke\", \"exercise\"], [1, 2])\n",
    "stroke = stroke.drop(\"stroke\", 1)\n",
    "stroke = stroke.rename(columns={'probs':'Probability'})\n",
    "stroke.insert(0, \"Stroke\", stroke_labels)\n",
    "display(stroke)\n",
    "print()\n",
    "\n",
    "print(\"Heart attack outcomes with bad habits:\")\n",
    "heart_attack = infer(network, heart_attack_marg, [\"smoke\", \"exercise\"], [1, 2])\n",
    "heart_attack = heart_attack.drop(\"attack\", 1)\n",
    "heart_attack = heart_attack.rename(columns={'probs':'Probability'})\n",
    "heart_attack.insert(0, \"Heart Attack\", heart_attack_labels)\n",
    "display(heart_attack)\n",
    "print()\n",
    "\n",
    "print(\"Angina outcomes with bad habits:\")\n",
    "angina = infer(network, angina_marg, [\"smoke\", \"exercise\"], [1, 2])\n",
    "angina = angina.drop(\"angina\", 1)\n",
    "angina = angina.rename(columns={'probs':'Probability'})\n",
    "angina.insert(0, \"Angina\", angina_labels)\n",
    "display(angina)\n",
    "print()"
   ]
  },
  {
   "cell_type": "markdown",
   "metadata": {},
   "source": [
    "**2a. How about if I have good habits (don't smoke and do exercise)**"
   ]
  },
  {
   "cell_type": "code",
   "execution_count": 4,
   "metadata": {},
   "outputs": [
    {
     "name": "stdout",
     "output_type": "stream",
     "text": [
      "Diabetes outcomes with good habits:\n"
     ]
    },
    {
     "data": {
      "text/html": [
       "<div>\n",
       "<style>\n",
       "    .dataframe thead tr:only-child th {\n",
       "        text-align: right;\n",
       "    }\n",
       "\n",
       "    .dataframe thead th {\n",
       "        text-align: left;\n",
       "    }\n",
       "\n",
       "    .dataframe tbody tr th {\n",
       "        vertical-align: top;\n",
       "    }\n",
       "</style>\n",
       "<table border=\"1\" class=\"dataframe\">\n",
       "  <thead>\n",
       "    <tr style=\"text-align: right;\">\n",
       "      <th></th>\n",
       "      <th>Diabetes</th>\n",
       "      <th>Probability</th>\n",
       "    </tr>\n",
       "  </thead>\n",
       "  <tbody>\n",
       "    <tr>\n",
       "      <th>0</th>\n",
       "      <td>yes</td>\n",
       "      <td>0.135062</td>\n",
       "    </tr>\n",
       "    <tr>\n",
       "      <th>1</th>\n",
       "      <td>only during pregnancy</td>\n",
       "      <td>0.007674</td>\n",
       "    </tr>\n",
       "    <tr>\n",
       "      <th>2</th>\n",
       "      <td>no</td>\n",
       "      <td>0.839392</td>\n",
       "    </tr>\n",
       "    <tr>\n",
       "      <th>3</th>\n",
       "      <td>pre-diabetic</td>\n",
       "      <td>0.017873</td>\n",
       "    </tr>\n",
       "  </tbody>\n",
       "</table>\n",
       "</div>"
      ],
      "text/plain": [
       "                Diabetes  Probability\n",
       "0                    yes     0.135062\n",
       "1  only during pregnancy     0.007674\n",
       "2                     no     0.839392\n",
       "3           pre-diabetic     0.017873"
      ]
     },
     "metadata": {},
     "output_type": "display_data"
    },
    {
     "name": "stdout",
     "output_type": "stream",
     "text": [
      "\n",
      "Stroke outcomes with good habits:\n"
     ]
    },
    {
     "data": {
      "text/html": [
       "<div>\n",
       "<style>\n",
       "    .dataframe thead tr:only-child th {\n",
       "        text-align: right;\n",
       "    }\n",
       "\n",
       "    .dataframe thead th {\n",
       "        text-align: left;\n",
       "    }\n",
       "\n",
       "    .dataframe tbody tr th {\n",
       "        vertical-align: top;\n",
       "    }\n",
       "</style>\n",
       "<table border=\"1\" class=\"dataframe\">\n",
       "  <thead>\n",
       "    <tr style=\"text-align: right;\">\n",
       "      <th></th>\n",
       "      <th>Stroke</th>\n",
       "      <th>Probability</th>\n",
       "    </tr>\n",
       "  </thead>\n",
       "  <tbody>\n",
       "    <tr>\n",
       "      <th>0</th>\n",
       "      <td>yes</td>\n",
       "      <td>0.036808</td>\n",
       "    </tr>\n",
       "    <tr>\n",
       "      <th>1</th>\n",
       "      <td>no</td>\n",
       "      <td>0.963192</td>\n",
       "    </tr>\n",
       "  </tbody>\n",
       "</table>\n",
       "</div>"
      ],
      "text/plain": [
       "  Stroke  Probability\n",
       "0    yes     0.036808\n",
       "1     no     0.963192"
      ]
     },
     "metadata": {},
     "output_type": "display_data"
    },
    {
     "name": "stdout",
     "output_type": "stream",
     "text": [
      "\n",
      "Heart attack outcomes with good habits:\n"
     ]
    },
    {
     "data": {
      "text/html": [
       "<div>\n",
       "<style>\n",
       "    .dataframe thead tr:only-child th {\n",
       "        text-align: right;\n",
       "    }\n",
       "\n",
       "    .dataframe thead th {\n",
       "        text-align: left;\n",
       "    }\n",
       "\n",
       "    .dataframe tbody tr th {\n",
       "        vertical-align: top;\n",
       "    }\n",
       "</style>\n",
       "<table border=\"1\" class=\"dataframe\">\n",
       "  <thead>\n",
       "    <tr style=\"text-align: right;\">\n",
       "      <th></th>\n",
       "      <th>Heart Attack</th>\n",
       "      <th>Probability</th>\n",
       "    </tr>\n",
       "  </thead>\n",
       "  <tbody>\n",
       "    <tr>\n",
       "      <th>0</th>\n",
       "      <td>yes</td>\n",
       "      <td>0.051027</td>\n",
       "    </tr>\n",
       "    <tr>\n",
       "      <th>1</th>\n",
       "      <td>no</td>\n",
       "      <td>0.948973</td>\n",
       "    </tr>\n",
       "  </tbody>\n",
       "</table>\n",
       "</div>"
      ],
      "text/plain": [
       "  Heart Attack  Probability\n",
       "0          yes     0.051027\n",
       "1           no     0.948973"
      ]
     },
     "metadata": {},
     "output_type": "display_data"
    },
    {
     "name": "stdout",
     "output_type": "stream",
     "text": [
      "\n",
      "Angina outcomes with good habits:\n"
     ]
    },
    {
     "data": {
      "text/html": [
       "<div>\n",
       "<style>\n",
       "    .dataframe thead tr:only-child th {\n",
       "        text-align: right;\n",
       "    }\n",
       "\n",
       "    .dataframe thead th {\n",
       "        text-align: left;\n",
       "    }\n",
       "\n",
       "    .dataframe tbody tr th {\n",
       "        vertical-align: top;\n",
       "    }\n",
       "</style>\n",
       "<table border=\"1\" class=\"dataframe\">\n",
       "  <thead>\n",
       "    <tr style=\"text-align: right;\">\n",
       "      <th></th>\n",
       "      <th>Angina</th>\n",
       "      <th>Probability</th>\n",
       "    </tr>\n",
       "  </thead>\n",
       "  <tbody>\n",
       "    <tr>\n",
       "      <th>0</th>\n",
       "      <td>yes</td>\n",
       "      <td>0.052319</td>\n",
       "    </tr>\n",
       "    <tr>\n",
       "      <th>1</th>\n",
       "      <td>no</td>\n",
       "      <td>0.947681</td>\n",
       "    </tr>\n",
       "  </tbody>\n",
       "</table>\n",
       "</div>"
      ],
      "text/plain": [
       "  Angina  Probability\n",
       "0    yes     0.052319\n",
       "1     no     0.947681"
      ]
     },
     "metadata": {},
     "output_type": "display_data"
    },
    {
     "name": "stdout",
     "output_type": "stream",
     "text": [
      "\n"
     ]
    }
   ],
   "source": [
    "print(\"Diabetes outcomes with good habits:\")\n",
    "diabetes = infer(network, diabetes_marg, [\"smoke\", \"exercise\"], [2, 1])\n",
    "diabetes = diabetes.drop(\"diabetes\", 1)\n",
    "diabetes = diabetes.rename(columns={'probs':'Probability'})\n",
    "diabetes.insert(0, \"Diabetes\", diabetes_labels)\n",
    "display(diabetes)\n",
    "print()\n",
    "\n",
    "print(\"Stroke outcomes with good habits:\")\n",
    "stroke = infer(network, stroke_marg, [\"smoke\", \"exercise\"], [2, 1])\n",
    "stroke = stroke.drop(\"stroke\", 1)\n",
    "stroke = stroke.rename(columns={'probs':'Probability'})\n",
    "stroke.insert(0, \"Stroke\", stroke_labels)\n",
    "display(stroke)\n",
    "print()\n",
    "\n",
    "print(\"Heart attack outcomes with good habits:\")\n",
    "heart_attack = infer(network, heart_attack_marg, [\"smoke\", \"exercise\"], [2, 1])\n",
    "heart_attack = heart_attack.drop(\"attack\", 1)\n",
    "heart_attack = heart_attack.rename(columns={'probs':'Probability'})\n",
    "heart_attack.insert(0, \"Heart Attack\", heart_attack_labels)\n",
    "display(heart_attack)\n",
    "print()\n",
    "\n",
    "print(\"Angina outcomes with good habits:\")\n",
    "angina = infer(network, angina_marg, [\"smoke\", \"exercise\"], [2, 1])\n",
    "angina = angina.drop(\"angina\", 1)\n",
    "angina = angina.rename(columns={'probs':'Probability'})\n",
    "angina.insert(0, \"Angina\", angina_labels)\n",
    "display(angina)\n",
    "print()"
   ]
  },
  {
   "cell_type": "markdown",
   "metadata": {},
   "source": [
    "**2b. What is the probability of the outcome if I have poor health (high blood pressure, high cholesterol, and overweight)?**"
   ]
  },
  {
   "cell_type": "code",
   "execution_count": 5,
   "metadata": {},
   "outputs": [
    {
     "name": "stdout",
     "output_type": "stream",
     "text": [
      "Diabetes outcomes with poor health:\n"
     ]
    },
    {
     "data": {
      "text/html": [
       "<div>\n",
       "<style>\n",
       "    .dataframe thead tr:only-child th {\n",
       "        text-align: right;\n",
       "    }\n",
       "\n",
       "    .dataframe thead th {\n",
       "        text-align: left;\n",
       "    }\n",
       "\n",
       "    .dataframe tbody tr th {\n",
       "        vertical-align: top;\n",
       "    }\n",
       "</style>\n",
       "<table border=\"1\" class=\"dataframe\">\n",
       "  <thead>\n",
       "    <tr style=\"text-align: right;\">\n",
       "      <th></th>\n",
       "      <th>Diabetes</th>\n",
       "      <th>Probability</th>\n",
       "    </tr>\n",
       "  </thead>\n",
       "  <tbody>\n",
       "    <tr>\n",
       "      <th>0</th>\n",
       "      <td>yes</td>\n",
       "      <td>0.122279</td>\n",
       "    </tr>\n",
       "    <tr>\n",
       "      <th>1</th>\n",
       "      <td>only during pregnancy</td>\n",
       "      <td>0.006718</td>\n",
       "    </tr>\n",
       "    <tr>\n",
       "      <th>2</th>\n",
       "      <td>no</td>\n",
       "      <td>0.854003</td>\n",
       "    </tr>\n",
       "    <tr>\n",
       "      <th>3</th>\n",
       "      <td>pre-diabetic</td>\n",
       "      <td>0.017000</td>\n",
       "    </tr>\n",
       "  </tbody>\n",
       "</table>\n",
       "</div>"
      ],
      "text/plain": [
       "                Diabetes  Probability\n",
       "0                    yes     0.122279\n",
       "1  only during pregnancy     0.006718\n",
       "2                     no     0.854003\n",
       "3           pre-diabetic     0.017000"
      ]
     },
     "metadata": {},
     "output_type": "display_data"
    },
    {
     "name": "stdout",
     "output_type": "stream",
     "text": [
      "\n",
      "Stroke outcomes with poor health:\n"
     ]
    },
    {
     "data": {
      "text/html": [
       "<div>\n",
       "<style>\n",
       "    .dataframe thead tr:only-child th {\n",
       "        text-align: right;\n",
       "    }\n",
       "\n",
       "    .dataframe thead th {\n",
       "        text-align: left;\n",
       "    }\n",
       "\n",
       "    .dataframe tbody tr th {\n",
       "        vertical-align: top;\n",
       "    }\n",
       "</style>\n",
       "<table border=\"1\" class=\"dataframe\">\n",
       "  <thead>\n",
       "    <tr style=\"text-align: right;\">\n",
       "      <th></th>\n",
       "      <th>Stroke</th>\n",
       "      <th>Probability</th>\n",
       "    </tr>\n",
       "  </thead>\n",
       "  <tbody>\n",
       "    <tr>\n",
       "      <th>0</th>\n",
       "      <td>yes</td>\n",
       "      <td>0.083975</td>\n",
       "    </tr>\n",
       "    <tr>\n",
       "      <th>1</th>\n",
       "      <td>no</td>\n",
       "      <td>0.916025</td>\n",
       "    </tr>\n",
       "  </tbody>\n",
       "</table>\n",
       "</div>"
      ],
      "text/plain": [
       "  Stroke  Probability\n",
       "0    yes     0.083975\n",
       "1     no     0.916025"
      ]
     },
     "metadata": {},
     "output_type": "display_data"
    },
    {
     "name": "stdout",
     "output_type": "stream",
     "text": [
      "\n",
      "Heart attack outcomes with poor health:\n"
     ]
    },
    {
     "data": {
      "text/html": [
       "<div>\n",
       "<style>\n",
       "    .dataframe thead tr:only-child th {\n",
       "        text-align: right;\n",
       "    }\n",
       "\n",
       "    .dataframe thead th {\n",
       "        text-align: left;\n",
       "    }\n",
       "\n",
       "    .dataframe tbody tr th {\n",
       "        vertical-align: top;\n",
       "    }\n",
       "</style>\n",
       "<table border=\"1\" class=\"dataframe\">\n",
       "  <thead>\n",
       "    <tr style=\"text-align: right;\">\n",
       "      <th></th>\n",
       "      <th>Heart Attack</th>\n",
       "      <th>Probability</th>\n",
       "    </tr>\n",
       "  </thead>\n",
       "  <tbody>\n",
       "    <tr>\n",
       "      <th>0</th>\n",
       "      <td>yes</td>\n",
       "      <td>0.13433</td>\n",
       "    </tr>\n",
       "    <tr>\n",
       "      <th>1</th>\n",
       "      <td>no</td>\n",
       "      <td>0.86567</td>\n",
       "    </tr>\n",
       "  </tbody>\n",
       "</table>\n",
       "</div>"
      ],
      "text/plain": [
       "  Heart Attack  Probability\n",
       "0          yes      0.13433\n",
       "1           no      0.86567"
      ]
     },
     "metadata": {},
     "output_type": "display_data"
    },
    {
     "name": "stdout",
     "output_type": "stream",
     "text": [
      "\n",
      "Angina outcomes with poor health:\n"
     ]
    },
    {
     "data": {
      "text/html": [
       "<div>\n",
       "<style>\n",
       "    .dataframe thead tr:only-child th {\n",
       "        text-align: right;\n",
       "    }\n",
       "\n",
       "    .dataframe thead th {\n",
       "        text-align: left;\n",
       "    }\n",
       "\n",
       "    .dataframe tbody tr th {\n",
       "        vertical-align: top;\n",
       "    }\n",
       "</style>\n",
       "<table border=\"1\" class=\"dataframe\">\n",
       "  <thead>\n",
       "    <tr style=\"text-align: right;\">\n",
       "      <th></th>\n",
       "      <th>Angina</th>\n",
       "      <th>Probability</th>\n",
       "    </tr>\n",
       "  </thead>\n",
       "  <tbody>\n",
       "    <tr>\n",
       "      <th>0</th>\n",
       "      <td>yes</td>\n",
       "      <td>0.153185</td>\n",
       "    </tr>\n",
       "    <tr>\n",
       "      <th>1</th>\n",
       "      <td>no</td>\n",
       "      <td>0.846815</td>\n",
       "    </tr>\n",
       "  </tbody>\n",
       "</table>\n",
       "</div>"
      ],
      "text/plain": [
       "  Angina  Probability\n",
       "0    yes     0.153185\n",
       "1     no     0.846815"
      ]
     },
     "metadata": {},
     "output_type": "display_data"
    },
    {
     "name": "stdout",
     "output_type": "stream",
     "text": [
      "\n"
     ]
    }
   ],
   "source": [
    "print(\"Diabetes outcomes with poor health:\")\n",
    "diabetes = infer(network, diabetes_marg, [\"bp\", \"cholesterol\", \"bmi\"], [1, 1, 3])\n",
    "diabetes = diabetes.drop(\"diabetes\", 1)\n",
    "diabetes = diabetes.rename(columns={'probs':'Probability'})\n",
    "diabetes.insert(0, \"Diabetes\", diabetes_labels)\n",
    "display(diabetes)\n",
    "print()\n",
    "\n",
    "print(\"Stroke outcomes with poor health:\")\n",
    "stroke = infer(network, stroke_marg, [\"bp\", \"cholesterol\", \"bmi\"], [1, 1, 3])\n",
    "stroke = stroke.drop(\"stroke\", 1)\n",
    "stroke = stroke.rename(columns={'probs':'Probability'})\n",
    "stroke.insert(0, \"Stroke\", stroke_labels)\n",
    "display(stroke)\n",
    "print()\n",
    "\n",
    "print(\"Heart attack outcomes with poor health:\")\n",
    "heart_attack = infer(network, heart_attack_marg, [\"bp\", \"cholesterol\", \"bmi\"], [1, 1, 3])\n",
    "heart_attack = heart_attack.drop(\"attack\", 1)\n",
    "heart_attack = heart_attack.rename(columns={'probs':'Probability'})\n",
    "heart_attack.insert(0, \"Heart Attack\", heart_attack_labels)\n",
    "display(heart_attack)\n",
    "print()\n",
    "\n",
    "print(\"Angina outcomes with poor health:\")\n",
    "angina = infer(network, angina_marg, [\"bp\", \"cholesterol\", \"bmi\"], [1, 1, 3])\n",
    "angina = angina.drop(\"angina\", 1)\n",
    "angina = angina.rename(columns={'probs':'Probability'})\n",
    "angina.insert(0, \"Angina\", angina_labels)\n",
    "display(angina)\n",
    "print()"
   ]
  },
  {
   "cell_type": "markdown",
   "metadata": {},
   "source": [
    "**2b. How about if I have good health (low blood pressure, low cholesterol, and normal weight)?**"
   ]
  },
  {
   "cell_type": "code",
   "execution_count": 6,
   "metadata": {},
   "outputs": [
    {
     "name": "stdout",
     "output_type": "stream",
     "text": [
      "Diabetes outcomes with good health:\n"
     ]
    },
    {
     "data": {
      "text/html": [
       "<div>\n",
       "<style>\n",
       "    .dataframe thead tr:only-child th {\n",
       "        text-align: right;\n",
       "    }\n",
       "\n",
       "    .dataframe thead th {\n",
       "        text-align: left;\n",
       "    }\n",
       "\n",
       "    .dataframe tbody tr th {\n",
       "        vertical-align: top;\n",
       "    }\n",
       "</style>\n",
       "<table border=\"1\" class=\"dataframe\">\n",
       "  <thead>\n",
       "    <tr style=\"text-align: right;\">\n",
       "      <th></th>\n",
       "      <th>Diabetes</th>\n",
       "      <th>Probability</th>\n",
       "    </tr>\n",
       "  </thead>\n",
       "  <tbody>\n",
       "    <tr>\n",
       "      <th>0</th>\n",
       "      <td>yes</td>\n",
       "      <td>0.061634</td>\n",
       "    </tr>\n",
       "    <tr>\n",
       "      <th>1</th>\n",
       "      <td>only during pregnancy</td>\n",
       "      <td>0.007800</td>\n",
       "    </tr>\n",
       "    <tr>\n",
       "      <th>2</th>\n",
       "      <td>no</td>\n",
       "      <td>0.919897</td>\n",
       "    </tr>\n",
       "    <tr>\n",
       "      <th>3</th>\n",
       "      <td>pre-diabetic</td>\n",
       "      <td>0.010668</td>\n",
       "    </tr>\n",
       "  </tbody>\n",
       "</table>\n",
       "</div>"
      ],
      "text/plain": [
       "                Diabetes  Probability\n",
       "0                    yes     0.061634\n",
       "1  only during pregnancy     0.007800\n",
       "2                     no     0.919897\n",
       "3           pre-diabetic     0.010668"
      ]
     },
     "metadata": {},
     "output_type": "display_data"
    },
    {
     "name": "stdout",
     "output_type": "stream",
     "text": [
      "\n",
      "Stroke outcomes with good health:\n"
     ]
    },
    {
     "data": {
      "text/html": [
       "<div>\n",
       "<style>\n",
       "    .dataframe thead tr:only-child th {\n",
       "        text-align: right;\n",
       "    }\n",
       "\n",
       "    .dataframe thead th {\n",
       "        text-align: left;\n",
       "    }\n",
       "\n",
       "    .dataframe tbody tr th {\n",
       "        vertical-align: top;\n",
       "    }\n",
       "</style>\n",
       "<table border=\"1\" class=\"dataframe\">\n",
       "  <thead>\n",
       "    <tr style=\"text-align: right;\">\n",
       "      <th></th>\n",
       "      <th>Stroke</th>\n",
       "      <th>Probability</th>\n",
       "    </tr>\n",
       "  </thead>\n",
       "  <tbody>\n",
       "    <tr>\n",
       "      <th>0</th>\n",
       "      <td>yes</td>\n",
       "      <td>0.01387</td>\n",
       "    </tr>\n",
       "    <tr>\n",
       "      <th>1</th>\n",
       "      <td>no</td>\n",
       "      <td>0.98613</td>\n",
       "    </tr>\n",
       "  </tbody>\n",
       "</table>\n",
       "</div>"
      ],
      "text/plain": [
       "  Stroke  Probability\n",
       "0    yes      0.01387\n",
       "1     no      0.98613"
      ]
     },
     "metadata": {},
     "output_type": "display_data"
    },
    {
     "name": "stdout",
     "output_type": "stream",
     "text": [
      "\n",
      "Heart attack outcomes with good health:\n"
     ]
    },
    {
     "data": {
      "text/html": [
       "<div>\n",
       "<style>\n",
       "    .dataframe thead tr:only-child th {\n",
       "        text-align: right;\n",
       "    }\n",
       "\n",
       "    .dataframe thead th {\n",
       "        text-align: left;\n",
       "    }\n",
       "\n",
       "    .dataframe tbody tr th {\n",
       "        vertical-align: top;\n",
       "    }\n",
       "</style>\n",
       "<table border=\"1\" class=\"dataframe\">\n",
       "  <thead>\n",
       "    <tr style=\"text-align: right;\">\n",
       "      <th></th>\n",
       "      <th>Heart Attack</th>\n",
       "      <th>Probability</th>\n",
       "    </tr>\n",
       "  </thead>\n",
       "  <tbody>\n",
       "    <tr>\n",
       "      <th>0</th>\n",
       "      <td>yes</td>\n",
       "      <td>0.015888</td>\n",
       "    </tr>\n",
       "    <tr>\n",
       "      <th>1</th>\n",
       "      <td>no</td>\n",
       "      <td>0.984112</td>\n",
       "    </tr>\n",
       "  </tbody>\n",
       "</table>\n",
       "</div>"
      ],
      "text/plain": [
       "  Heart Attack  Probability\n",
       "0          yes     0.015888\n",
       "1           no     0.984112"
      ]
     },
     "metadata": {},
     "output_type": "display_data"
    },
    {
     "name": "stdout",
     "output_type": "stream",
     "text": [
      "\n",
      "Angina outcomes with good health:\n"
     ]
    },
    {
     "data": {
      "text/html": [
       "<div>\n",
       "<style>\n",
       "    .dataframe thead tr:only-child th {\n",
       "        text-align: right;\n",
       "    }\n",
       "\n",
       "    .dataframe thead th {\n",
       "        text-align: left;\n",
       "    }\n",
       "\n",
       "    .dataframe tbody tr th {\n",
       "        vertical-align: top;\n",
       "    }\n",
       "</style>\n",
       "<table border=\"1\" class=\"dataframe\">\n",
       "  <thead>\n",
       "    <tr style=\"text-align: right;\">\n",
       "      <th></th>\n",
       "      <th>Angina</th>\n",
       "      <th>Probability</th>\n",
       "    </tr>\n",
       "  </thead>\n",
       "  <tbody>\n",
       "    <tr>\n",
       "      <th>0</th>\n",
       "      <td>yes</td>\n",
       "      <td>0.012839</td>\n",
       "    </tr>\n",
       "    <tr>\n",
       "      <th>1</th>\n",
       "      <td>no</td>\n",
       "      <td>0.987161</td>\n",
       "    </tr>\n",
       "  </tbody>\n",
       "</table>\n",
       "</div>"
      ],
      "text/plain": [
       "  Angina  Probability\n",
       "0    yes     0.012839\n",
       "1     no     0.987161"
      ]
     },
     "metadata": {},
     "output_type": "display_data"
    },
    {
     "name": "stdout",
     "output_type": "stream",
     "text": [
      "\n"
     ]
    }
   ],
   "source": [
    "print(\"Diabetes outcomes with good health:\")\n",
    "diabetes = infer(network, diabetes_marg, [\"bp\", \"cholesterol\", \"bmi\"], [3, 2, 2])\n",
    "diabetes = diabetes.drop(\"diabetes\", 1)\n",
    "diabetes = diabetes.rename(columns={'probs':'Probability'})\n",
    "diabetes.insert(0, \"Diabetes\", diabetes_labels)\n",
    "display(diabetes)\n",
    "print()\n",
    "\n",
    "print(\"Stroke outcomes with good health:\")\n",
    "stroke = infer(network, stroke_marg, [\"bp\", \"cholesterol\", \"bmi\"], [3, 2, 2])\n",
    "stroke = stroke.drop(\"stroke\", 1)\n",
    "stroke = stroke.rename(columns={'probs':'Probability'})\n",
    "stroke.insert(0, \"Stroke\", stroke_labels)\n",
    "display(stroke)\n",
    "print()\n",
    "\n",
    "print(\"Heart attack outcomes with good health:\")\n",
    "heart_attack = infer(network, heart_attack_marg, [\"bp\", \"cholesterol\", \"bmi\"], [3, 2, 2])\n",
    "heart_attack = heart_attack.drop(\"attack\", 1)\n",
    "heart_attack = heart_attack.rename(columns={'probs':'Probability'})\n",
    "heart_attack.insert(0, \"Heart Attack\", heart_attack_labels)\n",
    "display(heart_attack)\n",
    "print()\n",
    "\n",
    "print(\"Angina outcomes with good health:\")\n",
    "angina = infer(network, angina_marg, [\"bp\", \"cholesterol\", \"bmi\"], [3, 2, 2])\n",
    "angina = angina.drop(\"angina\", 1)\n",
    "angina = angina.rename(columns={'probs':'Probability'})\n",
    "angina.insert(0, \"Angina\", angina_labels)\n",
    "display(angina)\n",
    "print()"
   ]
  },
  {
   "cell_type": "markdown",
   "metadata": {},
   "source": [
    "**3. Evaluate the effect a person's income has on their probability of having one of the four health outcomes. For each of these four outcomes, plot their probability given income status.**"
   ]
  },
  {
   "cell_type": "code",
   "execution_count": 7,
   "metadata": {},
   "outputs": [
    {
     "data": {
      "text/plain": [
       "<matplotlib.axes._subplots.AxesSubplot at 0x10df39a20>"
      ]
     },
     "execution_count": 7,
     "metadata": {},
     "output_type": "execute_result"
    },
    {
     "data": {
      "image/png": "[encoded data removed]",
      "text/plain": [
       "<matplotlib.figure.Figure at 0x10df39128>"
      ]
     },
     "metadata": {},
     "output_type": "display_data"
    }
   ],
   "source": [
    "diabetes_probs = []\n",
    "stroke_probs = []\n",
    "heart_attack_probs = []\n",
    "angina_probs = []\n",
    "incomes = [1, 2, 3, 4, 5, 6, 7, 8]\n",
    "\n",
    "for income in incomes:\n",
    "    diabetes_prob = infer(network, diabetes_marg, [\"income\"], [income]).iloc[0]['probs']\n",
    "    diabetes_probs.append(diabetes_prob)\n",
    "    stroke_prob = infer(network, stroke_marg, [\"income\"], [income]).iloc[0]['probs']\n",
    "    stroke_probs.append(stroke_prob)\n",
    "    heart_attack_prob = infer(network, heart_attack_marg, [\"income\"], [income]).iloc[0]['probs']\n",
    "    heart_attack_probs.append(heart_attack_prob)\n",
    "    angina_prob = infer(network, angina_marg, [\"income\"], [income]).iloc[0]['probs']\n",
    "    angina_probs.append(angina_prob)\n",
    "\n",
    "%matplotlib inline\n",
    "income_df = pd.DataFrame()\n",
    "income_df['Tax Bracket'] = [1, 2, 3, 4, 5, 6, 7, 8]\n",
    "income_df['Diabetes'] = diabetes_probs\n",
    "income_df['Stroke'] = stroke_probs\n",
    "income_df['Heart Attack'] = heart_attack_probs\n",
    "income_df['Angina'] = angina_probs\n",
    "income_df.plot(x='Tax Bracket', title=\"Health Complications Based On Tax Bracket\")"
   ]
  },
  {
   "cell_type": "markdown",
   "metadata": {},
   "source": [
    "**What can you conclude?**\n",
    "\n",
    "According to our model, as you move up tax brackets you reduce your chances of all four health complications. There is an exception where the chances of health complications actually rises between tax brackets 1 and 2. My theory is individuals living in extreme poverty fall victim to other health complications before they experience these complications."
   ]
  },
  {
   "cell_type": "markdown",
   "metadata": {},
   "source": [
    "**4. Notice there are no links in the graph between the habits (smoking and exercise) and the outcomes. What assumption is this making about the effects of smoking and exercise on health problems?**\n",
    "\n",
    "We are making the assumption there is not a direct link between smoking and exercising and health problems. We are stating that your habits affect certain levels in your body (bmi, blood pressure, cholesterol) and those affect you dealing with health problems. But we aren't conditioning health problems on habits directly.\n",
    "\n",
    "**Let's test the validity of these assumptions. Create a second Bayesian network as above, but add edges from smoking to each of the four outcomes and edges from exercise to each of the four outcomes.**"
   ]
  },
  {
   "cell_type": "code",
   "execution_count": 12,
   "metadata": {
    "collapsed": true
   },
   "outputs": [],
   "source": [
    "income = createCPTfromData(data, [\"income\"])\n",
    "diabetes_h = createCPTfromData(data, [\"diabetes\", \"bmi\", \"smoke\", \"exercise\"])\n",
    "stroke_h = createCPTfromData(data, [\"stroke\", \"bmi\", \"bp\", \"cholesterol\", \"smoke\", \"exercise\"])\n",
    "attack_h = createCPTfromData(data, [\"attack\", \"bmi\", \"bp\", \"cholesterol\", \"smoke\", \"exercise\"])\n",
    "angina_h = createCPTfromData(data, [\"angina\", \"bmi\", \"bp\", \"cholesterol\", \"smoke\", \"exercise\"])\n",
    "\n",
    "habit_network = [income, bmi, exercise, smoke, bp, cholesterol, diabetes_h, stroke_h, attack_h, angina_h]\n",
    "variables = [\"income\", \"bmi\", \"exercise\", \"smoke\", \"bp\", \"cholesterol\", \"diabetes\", \"stroke\", \"attack\", \"angina\"]"
   ]
  },
  {
   "cell_type": "markdown",
   "metadata": {},
   "source": [
    "**Now redo the queries in Question 2.**"
   ]
  },
  {
   "cell_type": "code",
   "execution_count": 13,
   "metadata": {},
   "outputs": [
    {
     "name": "stdout",
     "output_type": "stream",
     "text": [
      "Diabetes outcomes with bad habits:\n"
     ]
    },
    {
     "data": {
      "text/html": [
       "<div>\n",
       "<style>\n",
       "    .dataframe thead tr:only-child th {\n",
       "        text-align: right;\n",
       "    }\n",
       "\n",
       "    .dataframe thead th {\n",
       "        text-align: left;\n",
       "    }\n",
       "\n",
       "    .dataframe tbody tr th {\n",
       "        vertical-align: top;\n",
       "    }\n",
       "</style>\n",
       "<table border=\"1\" class=\"dataframe\">\n",
       "  <thead>\n",
       "    <tr style=\"text-align: right;\">\n",
       "      <th></th>\n",
       "      <th>Diabetes</th>\n",
       "      <th>Old Probability</th>\n",
       "      <th>New Probability</th>\n",
       "      <th>Change</th>\n",
       "    </tr>\n",
       "  </thead>\n",
       "  <tbody>\n",
       "    <tr>\n",
       "      <th>0</th>\n",
       "      <td>yes</td>\n",
       "      <td>0.159330</td>\n",
       "      <td>0.226743</td>\n",
       "      <td>0.067412</td>\n",
       "    </tr>\n",
       "    <tr>\n",
       "      <th>1</th>\n",
       "      <td>only during pregnancy</td>\n",
       "      <td>0.007881</td>\n",
       "      <td>0.006208</td>\n",
       "      <td>-0.001673</td>\n",
       "    </tr>\n",
       "    <tr>\n",
       "      <th>2</th>\n",
       "      <td>no</td>\n",
       "      <td>0.812632</td>\n",
       "      <td>0.742921</td>\n",
       "      <td>-0.069711</td>\n",
       "    </tr>\n",
       "    <tr>\n",
       "      <th>3</th>\n",
       "      <td>pre-diabetic</td>\n",
       "      <td>0.020156</td>\n",
       "      <td>0.024128</td>\n",
       "      <td>0.003972</td>\n",
       "    </tr>\n",
       "  </tbody>\n",
       "</table>\n",
       "</div>"
      ],
      "text/plain": [
       "                Diabetes  Old Probability  New Probability    Change\n",
       "0                    yes         0.159330         0.226743  0.067412\n",
       "1  only during pregnancy         0.007881         0.006208 -0.001673\n",
       "2                     no         0.812632         0.742921 -0.069711\n",
       "3           pre-diabetic         0.020156         0.024128  0.003972"
      ]
     },
     "metadata": {},
     "output_type": "display_data"
    },
    {
     "name": "stdout",
     "output_type": "stream",
     "text": [
      "\n",
      "Stroke outcomes with bad habits:\n"
     ]
    },
    {
     "data": {
      "text/html": [
       "<div>\n",
       "<style>\n",
       "    .dataframe thead tr:only-child th {\n",
       "        text-align: right;\n",
       "    }\n",
       "\n",
       "    .dataframe thead th {\n",
       "        text-align: left;\n",
       "    }\n",
       "\n",
       "    .dataframe tbody tr th {\n",
       "        vertical-align: top;\n",
       "    }\n",
       "</style>\n",
       "<table border=\"1\" class=\"dataframe\">\n",
       "  <thead>\n",
       "    <tr style=\"text-align: right;\">\n",
       "      <th></th>\n",
       "      <th>Stroke</th>\n",
       "      <th>Old Probability</th>\n",
       "      <th>New Probability</th>\n",
       "      <th>Change</th>\n",
       "    </tr>\n",
       "  </thead>\n",
       "  <tbody>\n",
       "    <tr>\n",
       "      <th>0</th>\n",
       "      <td>yes</td>\n",
       "      <td>0.050127</td>\n",
       "      <td>0.079028</td>\n",
       "      <td>0.028901</td>\n",
       "    </tr>\n",
       "    <tr>\n",
       "      <th>1</th>\n",
       "      <td>no</td>\n",
       "      <td>0.949873</td>\n",
       "      <td>0.920972</td>\n",
       "      <td>-0.028901</td>\n",
       "    </tr>\n",
       "  </tbody>\n",
       "</table>\n",
       "</div>"
      ],
      "text/plain": [
       "  Stroke  Old Probability  New Probability    Change\n",
       "0    yes         0.050127         0.079028  0.028901\n",
       "1     no         0.949873         0.920972 -0.028901"
      ]
     },
     "metadata": {},
     "output_type": "display_data"
    },
    {
     "name": "stdout",
     "output_type": "stream",
     "text": [
      "\n",
      "Heart attack outcomes with bad habits:\n"
     ]
    },
    {
     "data": {
      "text/html": [
       "<div>\n",
       "<style>\n",
       "    .dataframe thead tr:only-child th {\n",
       "        text-align: right;\n",
       "    }\n",
       "\n",
       "    .dataframe thead th {\n",
       "        text-align: left;\n",
       "    }\n",
       "\n",
       "    .dataframe tbody tr th {\n",
       "        vertical-align: top;\n",
       "    }\n",
       "</style>\n",
       "<table border=\"1\" class=\"dataframe\">\n",
       "  <thead>\n",
       "    <tr style=\"text-align: right;\">\n",
       "      <th></th>\n",
       "      <th>Heart Attack</th>\n",
       "      <th>Old Probability</th>\n",
       "      <th>New Probability</th>\n",
       "      <th>Change</th>\n",
       "    </tr>\n",
       "  </thead>\n",
       "  <tbody>\n",
       "    <tr>\n",
       "      <th>0</th>\n",
       "      <td>yes</td>\n",
       "      <td>0.072415</td>\n",
       "      <td>0.117542</td>\n",
       "      <td>0.045126</td>\n",
       "    </tr>\n",
       "    <tr>\n",
       "      <th>1</th>\n",
       "      <td>no</td>\n",
       "      <td>0.927585</td>\n",
       "      <td>0.882458</td>\n",
       "      <td>-0.045126</td>\n",
       "    </tr>\n",
       "  </tbody>\n",
       "</table>\n",
       "</div>"
      ],
      "text/plain": [
       "  Heart Attack  Old Probability  New Probability    Change\n",
       "0          yes         0.072415         0.117542  0.045126\n",
       "1           no         0.927585         0.882458 -0.045126"
      ]
     },
     "metadata": {},
     "output_type": "display_data"
    },
    {
     "name": "stdout",
     "output_type": "stream",
     "text": [
      "\n",
      "Angina outcomes with bad habits:\n"
     ]
    },
    {
     "data": {
      "text/html": [
       "<div>\n",
       "<style>\n",
       "    .dataframe thead tr:only-child th {\n",
       "        text-align: right;\n",
       "    }\n",
       "\n",
       "    .dataframe thead th {\n",
       "        text-align: left;\n",
       "    }\n",
       "\n",
       "    .dataframe tbody tr th {\n",
       "        vertical-align: top;\n",
       "    }\n",
       "</style>\n",
       "<table border=\"1\" class=\"dataframe\">\n",
       "  <thead>\n",
       "    <tr style=\"text-align: right;\">\n",
       "      <th></th>\n",
       "      <th>Angina</th>\n",
       "      <th>Old Probability</th>\n",
       "      <th>New Probability</th>\n",
       "      <th>Change</th>\n",
       "    </tr>\n",
       "  </thead>\n",
       "  <tbody>\n",
       "    <tr>\n",
       "      <th>0</th>\n",
       "      <td>yes</td>\n",
       "      <td>0.077756</td>\n",
       "      <td>0.114263</td>\n",
       "      <td>0.036507</td>\n",
       "    </tr>\n",
       "    <tr>\n",
       "      <th>1</th>\n",
       "      <td>no</td>\n",
       "      <td>0.922244</td>\n",
       "      <td>0.885737</td>\n",
       "      <td>-0.036507</td>\n",
       "    </tr>\n",
       "  </tbody>\n",
       "</table>\n",
       "</div>"
      ],
      "text/plain": [
       "  Angina  Old Probability  New Probability    Change\n",
       "0    yes         0.077756         0.114263  0.036507\n",
       "1     no         0.922244         0.885737 -0.036507"
      ]
     },
     "metadata": {},
     "output_type": "display_data"
    },
    {
     "name": "stdout",
     "output_type": "stream",
     "text": [
      "\n"
     ]
    }
   ],
   "source": [
    "# English labels to replace numerical labels before printing table\n",
    "diabetes_labels = [\"yes\", \"only during pregnancy\", \"no\", \"pre-diabetic\"]\n",
    "stroke_labels = [\"yes\", \"no\"]\n",
    "heart_attack_labels = [\"yes\", \"no\"]\n",
    "angina_labels = [\"yes\", \"no\"]\n",
    "\n",
    "# Variables to marginalize out of each inference\n",
    "diabetes_marg = [x for x in variables if x != \"diabetes\"]\n",
    "stroke_marg = [x for x in variables if x != \"stroke\"]\n",
    "heart_attack_marg = [x for x in variables if x != \"attack\"]\n",
    "angina_marg = [x for x in variables if x != \"angina\"]\n",
    "\n",
    "print(\"Diabetes outcomes with bad habits:\")\n",
    "diabetes = infer(network, diabetes_marg, [\"smoke\", \"exercise\"], [1, 2])\n",
    "diabetes_habit = infer(habit_network, diabetes_marg, [\"smoke\", \"exercise\"], [1, 2])\n",
    "change = [new - old for new, old in zip(diabetes_habit[\"probs\"], diabetes[\"probs\"])]\n",
    "diabetes = diabetes.drop(\"diabetes\", 1)\n",
    "diabetes = diabetes.rename(columns={'probs':'Old Probability'})\n",
    "diabetes.insert(0, \"Diabetes\", diabetes_labels)\n",
    "diabetes[\"New Probability\"] = diabetes_habit[\"probs\"]\n",
    "diabetes[\"Change\"] = change\n",
    "display(diabetes)\n",
    "print()\n",
    "\n",
    "print(\"Stroke outcomes with bad habits:\")\n",
    "stroke = infer(network, stroke_marg, [\"smoke\", \"exercise\"], [1, 2])\n",
    "stroke_habit = infer(habit_network, stroke_marg, [\"smoke\", \"exercise\"], [1, 2])\n",
    "change = [new - old for new, old in zip(stroke_habit[\"probs\"], stroke[\"probs\"])]\n",
    "stroke = stroke.drop(\"stroke\", 1)\n",
    "stroke = stroke.rename(columns={'probs':'Old Probability'})\n",
    "stroke.insert(0, \"Stroke\", stroke_labels)\n",
    "stroke[\"New Probability\"] = stroke_habit[\"probs\"]\n",
    "stroke[\"Change\"] = change\n",
    "display(stroke)\n",
    "print()\n",
    "\n",
    "print(\"Heart attack outcomes with bad habits:\")\n",
    "heart_attack = infer(network, heart_attack_marg, [\"smoke\", \"exercise\"], [1, 2])\n",
    "heart_attack_habit = infer(habit_network, heart_attack_marg, [\"smoke\", \"exercise\"], [1, 2])\n",
    "change = [new - old for new, old in zip(heart_attack_habit[\"probs\"], heart_attack[\"probs\"])]\n",
    "heart_attack = heart_attack.drop(\"attack\", 1)\n",
    "heart_attack = heart_attack.rename(columns={'probs':'Old Probability'})\n",
    "heart_attack.insert(0, \"Heart Attack\", heart_attack_labels)\n",
    "heart_attack[\"New Probability\"] = heart_attack_habit[\"probs\"]\n",
    "heart_attack[\"Change\"] = change\n",
    "display(heart_attack)\n",
    "print()\n",
    "\n",
    "print(\"Angina outcomes with bad habits:\")\n",
    "angina = infer(network, angina_marg, [\"smoke\", \"exercise\"], [1, 2])\n",
    "angina_habit = infer(habit_network, angina_marg, [\"smoke\", \"exercise\"], [1, 2])\n",
    "change = [new - old for new, old in zip(angina_habit[\"probs\"], angina[\"probs\"])]\n",
    "angina = angina.drop(\"angina\", 1)\n",
    "angina = angina.rename(columns={'probs':'Old Probability'})\n",
    "angina.insert(0, \"Angina\", angina_labels)\n",
    "angina[\"New Probability\"] = angina_habit[\"probs\"]\n",
    "angina[\"Change\"] = change\n",
    "display(angina)\n",
    "print()"
   ]
  },
  {
   "cell_type": "code",
   "execution_count": 14,
   "metadata": {},
   "outputs": [
    {
     "name": "stdout",
     "output_type": "stream",
     "text": [
      "Diabetes outcomes with good habits:\n"
     ]
    },
    {
     "data": {
      "text/html": [
       "<div>\n",
       "<style>\n",
       "    .dataframe thead tr:only-child th {\n",
       "        text-align: right;\n",
       "    }\n",
       "\n",
       "    .dataframe thead th {\n",
       "        text-align: left;\n",
       "    }\n",
       "\n",
       "    .dataframe tbody tr th {\n",
       "        vertical-align: top;\n",
       "    }\n",
       "</style>\n",
       "<table border=\"1\" class=\"dataframe\">\n",
       "  <thead>\n",
       "    <tr style=\"text-align: right;\">\n",
       "      <th></th>\n",
       "      <th>Diabetes</th>\n",
       "      <th>Old Probability</th>\n",
       "      <th>New Probability</th>\n",
       "      <th>Change</th>\n",
       "    </tr>\n",
       "  </thead>\n",
       "  <tbody>\n",
       "    <tr>\n",
       "      <th>0</th>\n",
       "      <td>yes</td>\n",
       "      <td>0.135062</td>\n",
       "      <td>0.102528</td>\n",
       "      <td>-0.032535</td>\n",
       "    </tr>\n",
       "    <tr>\n",
       "      <th>1</th>\n",
       "      <td>only during pregnancy</td>\n",
       "      <td>0.007674</td>\n",
       "      <td>0.008884</td>\n",
       "      <td>0.001210</td>\n",
       "    </tr>\n",
       "    <tr>\n",
       "      <th>2</th>\n",
       "      <td>no</td>\n",
       "      <td>0.839392</td>\n",
       "      <td>0.873671</td>\n",
       "      <td>0.034280</td>\n",
       "    </tr>\n",
       "    <tr>\n",
       "      <th>3</th>\n",
       "      <td>pre-diabetic</td>\n",
       "      <td>0.017873</td>\n",
       "      <td>0.014917</td>\n",
       "      <td>-0.002955</td>\n",
       "    </tr>\n",
       "  </tbody>\n",
       "</table>\n",
       "</div>"
      ],
      "text/plain": [
       "                Diabetes  Old Probability  New Probability    Change\n",
       "0                    yes         0.135062         0.102528 -0.032535\n",
       "1  only during pregnancy         0.007674         0.008884  0.001210\n",
       "2                     no         0.839392         0.873671  0.034280\n",
       "3           pre-diabetic         0.017873         0.014917 -0.002955"
      ]
     },
     "metadata": {},
     "output_type": "display_data"
    },
    {
     "name": "stdout",
     "output_type": "stream",
     "text": [
      "\n",
      "Stroke outcomes with good habits:\n"
     ]
    },
    {
     "data": {
      "text/html": [
       "<div>\n",
       "<style>\n",
       "    .dataframe thead tr:only-child th {\n",
       "        text-align: right;\n",
       "    }\n",
       "\n",
       "    .dataframe thead th {\n",
       "        text-align: left;\n",
       "    }\n",
       "\n",
       "    .dataframe tbody tr th {\n",
       "        vertical-align: top;\n",
       "    }\n",
       "</style>\n",
       "<table border=\"1\" class=\"dataframe\">\n",
       "  <thead>\n",
       "    <tr style=\"text-align: right;\">\n",
       "      <th></th>\n",
       "      <th>Stroke</th>\n",
       "      <th>Old Probability</th>\n",
       "      <th>New Probability</th>\n",
       "      <th>Change</th>\n",
       "    </tr>\n",
       "  </thead>\n",
       "  <tbody>\n",
       "    <tr>\n",
       "      <th>0</th>\n",
       "      <td>yes</td>\n",
       "      <td>0.036808</td>\n",
       "      <td>0.025339</td>\n",
       "      <td>-0.01147</td>\n",
       "    </tr>\n",
       "    <tr>\n",
       "      <th>1</th>\n",
       "      <td>no</td>\n",
       "      <td>0.963192</td>\n",
       "      <td>0.974661</td>\n",
       "      <td>0.01147</td>\n",
       "    </tr>\n",
       "  </tbody>\n",
       "</table>\n",
       "</div>"
      ],
      "text/plain": [
       "  Stroke  Old Probability  New Probability   Change\n",
       "0    yes         0.036808         0.025339 -0.01147\n",
       "1     no         0.963192         0.974661  0.01147"
      ]
     },
     "metadata": {},
     "output_type": "display_data"
    },
    {
     "name": "stdout",
     "output_type": "stream",
     "text": [
      "\n",
      "Heart attack outcomes with good habits:\n"
     ]
    },
    {
     "data": {
      "text/html": [
       "<div>\n",
       "<style>\n",
       "    .dataframe thead tr:only-child th {\n",
       "        text-align: right;\n",
       "    }\n",
       "\n",
       "    .dataframe thead th {\n",
       "        text-align: left;\n",
       "    }\n",
       "\n",
       "    .dataframe tbody tr th {\n",
       "        vertical-align: top;\n",
       "    }\n",
       "</style>\n",
       "<table border=\"1\" class=\"dataframe\">\n",
       "  <thead>\n",
       "    <tr style=\"text-align: right;\">\n",
       "      <th></th>\n",
       "      <th>Heart Attack</th>\n",
       "      <th>Old Probability</th>\n",
       "      <th>New Probability</th>\n",
       "      <th>Change</th>\n",
       "    </tr>\n",
       "  </thead>\n",
       "  <tbody>\n",
       "    <tr>\n",
       "      <th>0</th>\n",
       "      <td>yes</td>\n",
       "      <td>0.051027</td>\n",
       "      <td>0.030385</td>\n",
       "      <td>-0.020643</td>\n",
       "    </tr>\n",
       "    <tr>\n",
       "      <th>1</th>\n",
       "      <td>no</td>\n",
       "      <td>0.948973</td>\n",
       "      <td>0.969615</td>\n",
       "      <td>0.020643</td>\n",
       "    </tr>\n",
       "  </tbody>\n",
       "</table>\n",
       "</div>"
      ],
      "text/plain": [
       "  Heart Attack  Old Probability  New Probability    Change\n",
       "0          yes         0.051027         0.030385 -0.020643\n",
       "1           no         0.948973         0.969615  0.020643"
      ]
     },
     "metadata": {},
     "output_type": "display_data"
    },
    {
     "name": "stdout",
     "output_type": "stream",
     "text": [
      "\n",
      "Angina outcomes with good habits:\n"
     ]
    },
    {
     "data": {
      "text/html": [
       "<div>\n",
       "<style>\n",
       "    .dataframe thead tr:only-child th {\n",
       "        text-align: right;\n",
       "    }\n",
       "\n",
       "    .dataframe thead th {\n",
       "        text-align: left;\n",
       "    }\n",
       "\n",
       "    .dataframe tbody tr th {\n",
       "        vertical-align: top;\n",
       "    }\n",
       "</style>\n",
       "<table border=\"1\" class=\"dataframe\">\n",
       "  <thead>\n",
       "    <tr style=\"text-align: right;\">\n",
       "      <th></th>\n",
       "      <th>Angina</th>\n",
       "      <th>Old Probability</th>\n",
       "      <th>New Probability</th>\n",
       "      <th>Change</th>\n",
       "    </tr>\n",
       "  </thead>\n",
       "  <tbody>\n",
       "    <tr>\n",
       "      <th>0</th>\n",
       "      <td>yes</td>\n",
       "      <td>0.052319</td>\n",
       "      <td>0.035964</td>\n",
       "      <td>-0.016354</td>\n",
       "    </tr>\n",
       "    <tr>\n",
       "      <th>1</th>\n",
       "      <td>no</td>\n",
       "      <td>0.947681</td>\n",
       "      <td>0.964036</td>\n",
       "      <td>0.016354</td>\n",
       "    </tr>\n",
       "  </tbody>\n",
       "</table>\n",
       "</div>"
      ],
      "text/plain": [
       "  Angina  Old Probability  New Probability    Change\n",
       "0    yes         0.052319         0.035964 -0.016354\n",
       "1     no         0.947681         0.964036  0.016354"
      ]
     },
     "metadata": {},
     "output_type": "display_data"
    },
    {
     "name": "stdout",
     "output_type": "stream",
     "text": [
      "\n"
     ]
    }
   ],
   "source": [
    "print(\"Diabetes outcomes with good habits:\")\n",
    "diabetes = infer(network, diabetes_marg, [\"smoke\", \"exercise\"], [2, 1])\n",
    "diabetes_habit = infer(habit_network, diabetes_marg, [\"smoke\", \"exercise\"], [2, 1])\n",
    "change = [new - old for new, old in zip(diabetes_habit[\"probs\"], diabetes[\"probs\"])]\n",
    "diabetes = diabetes.drop(\"diabetes\", 1)\n",
    "diabetes = diabetes.rename(columns={'probs':'Old Probability'})\n",
    "diabetes.insert(0, \"Diabetes\", diabetes_labels)\n",
    "diabetes[\"New Probability\"] = diabetes_habit[\"probs\"]\n",
    "diabetes[\"Change\"] = change\n",
    "display(diabetes)\n",
    "print()\n",
    "\n",
    "print(\"Stroke outcomes with good habits:\")\n",
    "stroke = infer(network, stroke_marg, [\"smoke\", \"exercise\"], [2, 1])\n",
    "stroke_habit = infer(habit_network, stroke_marg, [\"smoke\", \"exercise\"], [2, 1])\n",
    "change = [new - old for new, old in zip(stroke_habit[\"probs\"], stroke[\"probs\"])]\n",
    "stroke = stroke.drop(\"stroke\", 1)\n",
    "stroke = stroke.rename(columns={'probs':'Old Probability'})\n",
    "stroke.insert(0, \"Stroke\", stroke_labels)\n",
    "stroke[\"New Probability\"] = stroke_habit[\"probs\"]\n",
    "stroke[\"Change\"] = change\n",
    "display(stroke)\n",
    "print()\n",
    "\n",
    "print(\"Heart attack outcomes with good habits:\")\n",
    "heart_attack = infer(network, heart_attack_marg, [\"smoke\", \"exercise\"], [2, 1])\n",
    "heart_attack_habit = infer(habit_network, heart_attack_marg, [\"smoke\", \"exercise\"], [2, 1])\n",
    "change = [new - old for new, old in zip(heart_attack_habit[\"probs\"], heart_attack[\"probs\"])]\n",
    "heart_attack = heart_attack.drop(\"attack\", 1)\n",
    "heart_attack = heart_attack.rename(columns={'probs':'Old Probability'})\n",
    "heart_attack.insert(0, \"Heart Attack\", heart_attack_labels)\n",
    "heart_attack[\"New Probability\"] = heart_attack_habit[\"probs\"]\n",
    "heart_attack[\"Change\"] = change\n",
    "display(heart_attack)\n",
    "print()\n",
    "\n",
    "print(\"Angina outcomes with good habits:\")\n",
    "angina = infer(network, angina_marg, [\"smoke\", \"exercise\"], [2, 1])\n",
    "angina_habit = infer(habit_network, angina_marg, [\"smoke\", \"exercise\"], [2, 1])\n",
    "change = [new - old for new, old in zip(angina_habit[\"probs\"], angina[\"probs\"])]\n",
    "angina = angina.drop(\"angina\", 1)\n",
    "angina = angina.rename(columns={'probs':'Old Probability'})\n",
    "angina.insert(0, \"Angina\", angina_labels)\n",
    "angina[\"New Probability\"] = angina_habit[\"probs\"]\n",
    "angina[\"Change\"] = change\n",
    "display(angina)\n",
    "print()"
   ]
  },
  {
   "cell_type": "code",
   "execution_count": 15,
   "metadata": {},
   "outputs": [
    {
     "name": "stdout",
     "output_type": "stream",
     "text": [
      "Diabetes outcomes with poor health:\n"
     ]
    },
    {
     "data": {
      "text/html": [
       "<div>\n",
       "<style>\n",
       "    .dataframe thead tr:only-child th {\n",
       "        text-align: right;\n",
       "    }\n",
       "\n",
       "    .dataframe thead th {\n",
       "        text-align: left;\n",
       "    }\n",
       "\n",
       "    .dataframe tbody tr th {\n",
       "        vertical-align: top;\n",
       "    }\n",
       "</style>\n",
       "<table border=\"1\" class=\"dataframe\">\n",
       "  <thead>\n",
       "    <tr style=\"text-align: right;\">\n",
       "      <th></th>\n",
       "      <th>Diabetes</th>\n",
       "      <th>Old Probability</th>\n",
       "      <th>New Probability</th>\n",
       "      <th>Change</th>\n",
       "    </tr>\n",
       "  </thead>\n",
       "  <tbody>\n",
       "    <tr>\n",
       "      <th>0</th>\n",
       "      <td>yes</td>\n",
       "      <td>0.122279</td>\n",
       "      <td>0.131074</td>\n",
       "      <td>0.008794</td>\n",
       "    </tr>\n",
       "    <tr>\n",
       "      <th>1</th>\n",
       "      <td>only during pregnancy</td>\n",
       "      <td>0.006718</td>\n",
       "      <td>0.006500</td>\n",
       "      <td>-0.000217</td>\n",
       "    </tr>\n",
       "    <tr>\n",
       "      <th>2</th>\n",
       "      <td>no</td>\n",
       "      <td>0.854003</td>\n",
       "      <td>0.844574</td>\n",
       "      <td>-0.009429</td>\n",
       "    </tr>\n",
       "    <tr>\n",
       "      <th>3</th>\n",
       "      <td>pre-diabetic</td>\n",
       "      <td>0.017000</td>\n",
       "      <td>0.017852</td>\n",
       "      <td>0.000852</td>\n",
       "    </tr>\n",
       "  </tbody>\n",
       "</table>\n",
       "</div>"
      ],
      "text/plain": [
       "                Diabetes  Old Probability  New Probability    Change\n",
       "0                    yes         0.122279         0.131074  0.008794\n",
       "1  only during pregnancy         0.006718         0.006500 -0.000217\n",
       "2                     no         0.854003         0.844574 -0.009429\n",
       "3           pre-diabetic         0.017000         0.017852  0.000852"
      ]
     },
     "metadata": {},
     "output_type": "display_data"
    },
    {
     "name": "stdout",
     "output_type": "stream",
     "text": [
      "\n",
      "Stroke outcomes with poor health:\n"
     ]
    },
    {
     "data": {
      "text/html": [
       "<div>\n",
       "<style>\n",
       "    .dataframe thead tr:only-child th {\n",
       "        text-align: right;\n",
       "    }\n",
       "\n",
       "    .dataframe thead th {\n",
       "        text-align: left;\n",
       "    }\n",
       "\n",
       "    .dataframe tbody tr th {\n",
       "        vertical-align: top;\n",
       "    }\n",
       "</style>\n",
       "<table border=\"1\" class=\"dataframe\">\n",
       "  <thead>\n",
       "    <tr style=\"text-align: right;\">\n",
       "      <th></th>\n",
       "      <th>Stroke</th>\n",
       "      <th>Old Probability</th>\n",
       "      <th>New Probability</th>\n",
       "      <th>Change</th>\n",
       "    </tr>\n",
       "  </thead>\n",
       "  <tbody>\n",
       "    <tr>\n",
       "      <th>0</th>\n",
       "      <td>yes</td>\n",
       "      <td>0.083975</td>\n",
       "      <td>0.085754</td>\n",
       "      <td>0.001779</td>\n",
       "    </tr>\n",
       "    <tr>\n",
       "      <th>1</th>\n",
       "      <td>no</td>\n",
       "      <td>0.916025</td>\n",
       "      <td>0.914246</td>\n",
       "      <td>-0.001779</td>\n",
       "    </tr>\n",
       "  </tbody>\n",
       "</table>\n",
       "</div>"
      ],
      "text/plain": [
       "  Stroke  Old Probability  New Probability    Change\n",
       "0    yes         0.083975         0.085754  0.001779\n",
       "1     no         0.916025         0.914246 -0.001779"
      ]
     },
     "metadata": {},
     "output_type": "display_data"
    },
    {
     "name": "stdout",
     "output_type": "stream",
     "text": [
      "\n",
      "Heart attack outcomes with poor health:\n"
     ]
    },
    {
     "data": {
      "text/html": [
       "<div>\n",
       "<style>\n",
       "    .dataframe thead tr:only-child th {\n",
       "        text-align: right;\n",
       "    }\n",
       "\n",
       "    .dataframe thead th {\n",
       "        text-align: left;\n",
       "    }\n",
       "\n",
       "    .dataframe tbody tr th {\n",
       "        vertical-align: top;\n",
       "    }\n",
       "</style>\n",
       "<table border=\"1\" class=\"dataframe\">\n",
       "  <thead>\n",
       "    <tr style=\"text-align: right;\">\n",
       "      <th></th>\n",
       "      <th>Heart Attack</th>\n",
       "      <th>Old Probability</th>\n",
       "      <th>New Probability</th>\n",
       "      <th>Change</th>\n",
       "    </tr>\n",
       "  </thead>\n",
       "  <tbody>\n",
       "    <tr>\n",
       "      <th>0</th>\n",
       "      <td>yes</td>\n",
       "      <td>0.13433</td>\n",
       "      <td>0.136162</td>\n",
       "      <td>0.001832</td>\n",
       "    </tr>\n",
       "    <tr>\n",
       "      <th>1</th>\n",
       "      <td>no</td>\n",
       "      <td>0.86567</td>\n",
       "      <td>0.863838</td>\n",
       "      <td>-0.001832</td>\n",
       "    </tr>\n",
       "  </tbody>\n",
       "</table>\n",
       "</div>"
      ],
      "text/plain": [
       "  Heart Attack  Old Probability  New Probability    Change\n",
       "0          yes          0.13433         0.136162  0.001832\n",
       "1           no          0.86567         0.863838 -0.001832"
      ]
     },
     "metadata": {},
     "output_type": "display_data"
    },
    {
     "name": "stdout",
     "output_type": "stream",
     "text": [
      "\n",
      "Angina outcomes with poor health:\n"
     ]
    },
    {
     "data": {
      "text/html": [
       "<div>\n",
       "<style>\n",
       "    .dataframe thead tr:only-child th {\n",
       "        text-align: right;\n",
       "    }\n",
       "\n",
       "    .dataframe thead th {\n",
       "        text-align: left;\n",
       "    }\n",
       "\n",
       "    .dataframe tbody tr th {\n",
       "        vertical-align: top;\n",
       "    }\n",
       "</style>\n",
       "<table border=\"1\" class=\"dataframe\">\n",
       "  <thead>\n",
       "    <tr style=\"text-align: right;\">\n",
       "      <th></th>\n",
       "      <th>Angina</th>\n",
       "      <th>Old Probability</th>\n",
       "      <th>New Probability</th>\n",
       "      <th>Change</th>\n",
       "    </tr>\n",
       "  </thead>\n",
       "  <tbody>\n",
       "    <tr>\n",
       "      <th>0</th>\n",
       "      <td>yes</td>\n",
       "      <td>0.153185</td>\n",
       "      <td>0.154869</td>\n",
       "      <td>0.001684</td>\n",
       "    </tr>\n",
       "    <tr>\n",
       "      <th>1</th>\n",
       "      <td>no</td>\n",
       "      <td>0.846815</td>\n",
       "      <td>0.845131</td>\n",
       "      <td>-0.001684</td>\n",
       "    </tr>\n",
       "  </tbody>\n",
       "</table>\n",
       "</div>"
      ],
      "text/plain": [
       "  Angina  Old Probability  New Probability    Change\n",
       "0    yes         0.153185         0.154869  0.001684\n",
       "1     no         0.846815         0.845131 -0.001684"
      ]
     },
     "metadata": {},
     "output_type": "display_data"
    },
    {
     "name": "stdout",
     "output_type": "stream",
     "text": [
      "\n"
     ]
    }
   ],
   "source": [
    "print(\"Diabetes outcomes with poor health:\")\n",
    "diabetes = infer(network, diabetes_marg, [\"bp\", \"cholesterol\", \"bmi\"], [1, 1, 3])\n",
    "diabetes_habit = infer(habit_network, diabetes_marg, [\"bp\", \"cholesterol\", \"bmi\"], [1, 1, 3])\n",
    "change = [new - old for new, old in zip(diabetes_habit[\"probs\"], diabetes[\"probs\"])]\n",
    "diabetes = diabetes.drop(\"diabetes\", 1)\n",
    "diabetes = diabetes.rename(columns={'probs':'Old Probability'})\n",
    "diabetes.insert(0, \"Diabetes\", diabetes_labels)\n",
    "diabetes[\"New Probability\"] = diabetes_habit[\"probs\"]\n",
    "diabetes[\"Change\"] = change\n",
    "display(diabetes)\n",
    "print()\n",
    "\n",
    "print(\"Stroke outcomes with poor health:\")\n",
    "stroke = infer(network, stroke_marg, [\"bp\", \"cholesterol\", \"bmi\"], [1, 1, 3])\n",
    "stroke_habit = infer(habit_network, stroke_marg, [\"bp\", \"cholesterol\", \"bmi\"], [1, 1, 3])\n",
    "change = [new - old for new, old in zip(stroke_habit[\"probs\"], stroke[\"probs\"])]\n",
    "stroke = stroke.drop(\"stroke\", 1)\n",
    "stroke = stroke.rename(columns={'probs':'Old Probability'})\n",
    "stroke.insert(0, \"Stroke\", stroke_labels)\n",
    "stroke[\"New Probability\"] = stroke_habit[\"probs\"]\n",
    "stroke[\"Change\"] = change\n",
    "display(stroke)\n",
    "print()\n",
    "\n",
    "print(\"Heart attack outcomes with poor health:\")\n",
    "heart_attack = infer(network, heart_attack_marg, [\"bp\", \"cholesterol\", \"bmi\"], [1, 1, 3])\n",
    "heart_attack_habit = infer(habit_network, heart_attack_marg, [\"bp\", \"cholesterol\", \"bmi\"], [1, 1, 3])\n",
    "change = [new - old for new, old in zip(heart_attack_habit[\"probs\"], heart_attack[\"probs\"])]\n",
    "heart_attack = heart_attack.drop(\"attack\", 1)\n",
    "heart_attack = heart_attack.rename(columns={'probs':'Old Probability'})\n",
    "heart_attack.insert(0, \"Heart Attack\", heart_attack_labels)\n",
    "heart_attack[\"New Probability\"] = heart_attack_habit[\"probs\"]\n",
    "heart_attack[\"Change\"] = change\n",
    "display(heart_attack)\n",
    "print()\n",
    "\n",
    "print(\"Angina outcomes with poor health:\")\n",
    "angina = infer(network, angina_marg, [\"bp\", \"cholesterol\", \"bmi\"], [1, 1, 3])\n",
    "angina_habit = infer(habit_network, angina_marg, [\"bp\", \"cholesterol\", \"bmi\"], [1, 1, 3])\n",
    "change = [new - old for new, old in zip(angina_habit[\"probs\"], angina[\"probs\"])]\n",
    "angina = angina.drop(\"angina\", 1)\n",
    "angina = angina.rename(columns={'probs':'Old Probability'})\n",
    "angina.insert(0, \"Angina\", angina_labels)\n",
    "angina[\"New Probability\"] = angina_habit[\"probs\"]\n",
    "angina[\"Change\"] = change\n",
    "display(angina)\n",
    "print()"
   ]
  },
  {
   "cell_type": "code",
   "execution_count": 16,
   "metadata": {},
   "outputs": [
    {
     "name": "stdout",
     "output_type": "stream",
     "text": [
      "Diabetes outcomes with good health:\n"
     ]
    },
    {
     "data": {
      "text/html": [
       "<div>\n",
       "<style>\n",
       "    .dataframe thead tr:only-child th {\n",
       "        text-align: right;\n",
       "    }\n",
       "\n",
       "    .dataframe thead th {\n",
       "        text-align: left;\n",
       "    }\n",
       "\n",
       "    .dataframe tbody tr th {\n",
       "        vertical-align: top;\n",
       "    }\n",
       "</style>\n",
       "<table border=\"1\" class=\"dataframe\">\n",
       "  <thead>\n",
       "    <tr style=\"text-align: right;\">\n",
       "      <th></th>\n",
       "      <th>Diabetes</th>\n",
       "      <th>Old Probability</th>\n",
       "      <th>New Probability</th>\n",
       "      <th>Change</th>\n",
       "    </tr>\n",
       "  </thead>\n",
       "  <tbody>\n",
       "    <tr>\n",
       "      <th>0</th>\n",
       "      <td>yes</td>\n",
       "      <td>0.061634</td>\n",
       "      <td>0.057654</td>\n",
       "      <td>-0.003980</td>\n",
       "    </tr>\n",
       "    <tr>\n",
       "      <th>1</th>\n",
       "      <td>only during pregnancy</td>\n",
       "      <td>0.007800</td>\n",
       "      <td>0.007969</td>\n",
       "      <td>0.000169</td>\n",
       "    </tr>\n",
       "    <tr>\n",
       "      <th>2</th>\n",
       "      <td>no</td>\n",
       "      <td>0.919897</td>\n",
       "      <td>0.924009</td>\n",
       "      <td>0.004113</td>\n",
       "    </tr>\n",
       "    <tr>\n",
       "      <th>3</th>\n",
       "      <td>pre-diabetic</td>\n",
       "      <td>0.010668</td>\n",
       "      <td>0.010367</td>\n",
       "      <td>-0.000301</td>\n",
       "    </tr>\n",
       "  </tbody>\n",
       "</table>\n",
       "</div>"
      ],
      "text/plain": [
       "                Diabetes  Old Probability  New Probability    Change\n",
       "0                    yes         0.061634         0.057654 -0.003980\n",
       "1  only during pregnancy         0.007800         0.007969  0.000169\n",
       "2                     no         0.919897         0.924009  0.004113\n",
       "3           pre-diabetic         0.010668         0.010367 -0.000301"
      ]
     },
     "metadata": {},
     "output_type": "display_data"
    },
    {
     "name": "stdout",
     "output_type": "stream",
     "text": [
      "\n",
      "Stroke outcomes with good health:\n"
     ]
    },
    {
     "data": {
      "text/html": [
       "<div>\n",
       "<style>\n",
       "    .dataframe thead tr:only-child th {\n",
       "        text-align: right;\n",
       "    }\n",
       "\n",
       "    .dataframe thead th {\n",
       "        text-align: left;\n",
       "    }\n",
       "\n",
       "    .dataframe tbody tr th {\n",
       "        vertical-align: top;\n",
       "    }\n",
       "</style>\n",
       "<table border=\"1\" class=\"dataframe\">\n",
       "  <thead>\n",
       "    <tr style=\"text-align: right;\">\n",
       "      <th></th>\n",
       "      <th>Stroke</th>\n",
       "      <th>Old Probability</th>\n",
       "      <th>New Probability</th>\n",
       "      <th>Change</th>\n",
       "    </tr>\n",
       "  </thead>\n",
       "  <tbody>\n",
       "    <tr>\n",
       "      <th>0</th>\n",
       "      <td>yes</td>\n",
       "      <td>0.01387</td>\n",
       "      <td>0.013354</td>\n",
       "      <td>-0.000516</td>\n",
       "    </tr>\n",
       "    <tr>\n",
       "      <th>1</th>\n",
       "      <td>no</td>\n",
       "      <td>0.98613</td>\n",
       "      <td>0.986646</td>\n",
       "      <td>0.000516</td>\n",
       "    </tr>\n",
       "  </tbody>\n",
       "</table>\n",
       "</div>"
      ],
      "text/plain": [
       "  Stroke  Old Probability  New Probability    Change\n",
       "0    yes          0.01387         0.013354 -0.000516\n",
       "1     no          0.98613         0.986646  0.000516"
      ]
     },
     "metadata": {},
     "output_type": "display_data"
    },
    {
     "name": "stdout",
     "output_type": "stream",
     "text": [
      "\n",
      "Heart attack outcomes with good health:\n"
     ]
    },
    {
     "data": {
      "text/html": [
       "<div>\n",
       "<style>\n",
       "    .dataframe thead tr:only-child th {\n",
       "        text-align: right;\n",
       "    }\n",
       "\n",
       "    .dataframe thead th {\n",
       "        text-align: left;\n",
       "    }\n",
       "\n",
       "    .dataframe tbody tr th {\n",
       "        vertical-align: top;\n",
       "    }\n",
       "</style>\n",
       "<table border=\"1\" class=\"dataframe\">\n",
       "  <thead>\n",
       "    <tr style=\"text-align: right;\">\n",
       "      <th></th>\n",
       "      <th>Heart Attack</th>\n",
       "      <th>Old Probability</th>\n",
       "      <th>New Probability</th>\n",
       "      <th>Change</th>\n",
       "    </tr>\n",
       "  </thead>\n",
       "  <tbody>\n",
       "    <tr>\n",
       "      <th>0</th>\n",
       "      <td>yes</td>\n",
       "      <td>0.015888</td>\n",
       "      <td>0.015265</td>\n",
       "      <td>-0.000623</td>\n",
       "    </tr>\n",
       "    <tr>\n",
       "      <th>1</th>\n",
       "      <td>no</td>\n",
       "      <td>0.984112</td>\n",
       "      <td>0.984735</td>\n",
       "      <td>0.000623</td>\n",
       "    </tr>\n",
       "  </tbody>\n",
       "</table>\n",
       "</div>"
      ],
      "text/plain": [
       "  Heart Attack  Old Probability  New Probability    Change\n",
       "0          yes         0.015888         0.015265 -0.000623\n",
       "1           no         0.984112         0.984735  0.000623"
      ]
     },
     "metadata": {},
     "output_type": "display_data"
    },
    {
     "name": "stdout",
     "output_type": "stream",
     "text": [
      "\n",
      "Angina outcomes with good health:\n"
     ]
    },
    {
     "data": {
      "text/html": [
       "<div>\n",
       "<style>\n",
       "    .dataframe thead tr:only-child th {\n",
       "        text-align: right;\n",
       "    }\n",
       "\n",
       "    .dataframe thead th {\n",
       "        text-align: left;\n",
       "    }\n",
       "\n",
       "    .dataframe tbody tr th {\n",
       "        vertical-align: top;\n",
       "    }\n",
       "</style>\n",
       "<table border=\"1\" class=\"dataframe\">\n",
       "  <thead>\n",
       "    <tr style=\"text-align: right;\">\n",
       "      <th></th>\n",
       "      <th>Angina</th>\n",
       "      <th>Old Probability</th>\n",
       "      <th>New Probability</th>\n",
       "      <th>Change</th>\n",
       "    </tr>\n",
       "  </thead>\n",
       "  <tbody>\n",
       "    <tr>\n",
       "      <th>0</th>\n",
       "      <td>yes</td>\n",
       "      <td>0.012839</td>\n",
       "      <td>0.012437</td>\n",
       "      <td>-0.000402</td>\n",
       "    </tr>\n",
       "    <tr>\n",
       "      <th>1</th>\n",
       "      <td>no</td>\n",
       "      <td>0.987161</td>\n",
       "      <td>0.987563</td>\n",
       "      <td>0.000402</td>\n",
       "    </tr>\n",
       "  </tbody>\n",
       "</table>\n",
       "</div>"
      ],
      "text/plain": [
       "  Angina  Old Probability  New Probability    Change\n",
       "0    yes         0.012839         0.012437 -0.000402\n",
       "1     no         0.987161         0.987563  0.000402"
      ]
     },
     "metadata": {},
     "output_type": "display_data"
    },
    {
     "name": "stdout",
     "output_type": "stream",
     "text": [
      "\n"
     ]
    }
   ],
   "source": [
    "print(\"Diabetes outcomes with good health:\")\n",
    "diabetes = infer(network, diabetes_marg, [\"bp\", \"cholesterol\", \"bmi\"], [3, 2, 2])\n",
    "diabetes_habit = infer(habit_network, diabetes_marg, [\"bp\", \"cholesterol\", \"bmi\"], [3, 2, 2])\n",
    "change = [new - old for new, old in zip(diabetes_habit[\"probs\"], diabetes[\"probs\"])]\n",
    "diabetes = diabetes.drop(\"diabetes\", 1)\n",
    "diabetes = diabetes.rename(columns={'probs':'Old Probability'})\n",
    "diabetes.insert(0, \"Diabetes\", diabetes_labels)\n",
    "diabetes[\"New Probability\"] = diabetes_habit[\"probs\"]\n",
    "diabetes[\"Change\"] = change\n",
    "display(diabetes)\n",
    "print()\n",
    "\n",
    "print(\"Stroke outcomes with good health:\")\n",
    "stroke = infer(network, stroke_marg, [\"bp\", \"cholesterol\", \"bmi\"], [3, 2, 2])\n",
    "stroke_habit = infer(habit_network, stroke_marg, [\"bp\", \"cholesterol\", \"bmi\"], [3, 2, 2])\n",
    "change = [new - old for new, old in zip(stroke_habit[\"probs\"], stroke[\"probs\"])]\n",
    "stroke = stroke.drop(\"stroke\", 1)\n",
    "stroke = stroke.rename(columns={'probs':'Old Probability'})\n",
    "stroke.insert(0, \"Stroke\", stroke_labels)\n",
    "stroke[\"New Probability\"] = stroke_habit[\"probs\"]\n",
    "stroke[\"Change\"] = change\n",
    "display(stroke)\n",
    "print()\n",
    "\n",
    "print(\"Heart attack outcomes with good health:\")\n",
    "heart_attack = infer(network, heart_attack_marg, [\"bp\", \"cholesterol\", \"bmi\"], [3, 2, 2])\n",
    "heart_attack_habit = infer(habit_network, heart_attack_marg, [\"bp\", \"cholesterol\", \"bmi\"], [3, 2, 2])\n",
    "change = [new - old for new, old in zip(heart_attack_habit[\"probs\"], heart_attack[\"probs\"])]\n",
    "heart_attack = heart_attack.drop(\"attack\", 1)\n",
    "heart_attack = heart_attack.rename(columns={'probs':'Old Probability'})\n",
    "heart_attack.insert(0, \"Heart Attack\", heart_attack_labels)\n",
    "heart_attack[\"New Probability\"] = heart_attack_habit[\"probs\"]\n",
    "heart_attack[\"Change\"] = change\n",
    "display(heart_attack)\n",
    "print()\n",
    "\n",
    "print(\"Angina outcomes with good health:\")\n",
    "angina = infer(network, angina_marg, [\"bp\", \"cholesterol\", \"bmi\"], [3, 2, 2])\n",
    "angina_habit = infer(habit_network, angina_marg, [\"bp\", \"cholesterol\", \"bmi\"], [3, 2, 2])\n",
    "change = [new - old for new, old in zip(angina_habit[\"probs\"], angina[\"probs\"])]\n",
    "angina = angina.drop(\"angina\", 1)\n",
    "angina = angina.rename(columns={'probs':'Old Probability'})\n",
    "angina.insert(0, \"Angina\", angina_labels)\n",
    "angina[\"New Probability\"] = angina_habit[\"probs\"]\n",
    "angina[\"Change\"] = change\n",
    "display(angina)\n",
    "print()"
   ]
  },
  {
   "cell_type": "markdown",
   "metadata": {},
   "source": [
    "**What was the effect, and do you think the assumptions of the first graph were valid or not?**\n",
    "\n",
    "**Habits:** By adding a direct link from habits to complications, we saw an increase in the effect your habits have on developing complications. With bad habits, your chances of getting a complication went up. With good habits, they went down. (See the \"Change\" column of the habits graphs)\n",
    "\n",
    "**Health:** But this change in the network made little change on the results compared to the original network. This make sense. Health is concerned with blood pressure, cholesterol, and bmi. Added links between habits and complications shouldn't affect these results. (See the \"Change\" column of the health graphs)\n",
    "\n",
    "I find the assumptions made in the second graph to be more valid. I think your habits have a more direct connection to health complications."
   ]
  },
  {
   "cell_type": "markdown",
   "metadata": {},
   "source": [
    "**5. Also notice there are no edges between the four outcomes. What assumption is this making about the interactions between health problems?**\n",
    "\n",
    "Having one health problem doesn't play a direct role in you having another health problem. In other words, a health problem doesn't exacerbate other health problems. My intuition is this is incorrect.\n",
    "\n",
    "**Make a third network, starting from the network in Question 4, but adding an edge from diabetes to stroke.**"
   ]
  },
  {
   "cell_type": "code",
   "execution_count": null,
   "metadata": {
    "scrolled": true
   },
   "outputs": [
    {
     "name": "stdout",
     "output_type": "stream",
     "text": [
      "Stroke given you have diabetes without added edge:\n"
     ]
    },
    {
     "data": {
      "text/html": [
       "<div>\n",
       "<style>\n",
       "    .dataframe thead tr:only-child th {\n",
       "        text-align: right;\n",
       "    }\n",
       "\n",
       "    .dataframe thead th {\n",
       "        text-align: left;\n",
       "    }\n",
       "\n",
       "    .dataframe tbody tr th {\n",
       "        vertical-align: top;\n",
       "    }\n",
       "</style>\n",
       "<table border=\"1\" class=\"dataframe\">\n",
       "  <thead>\n",
       "    <tr style=\"text-align: right;\">\n",
       "      <th></th>\n",
       "      <th>Stroke</th>\n",
       "      <th>Probability</th>\n",
       "    </tr>\n",
       "  </thead>\n",
       "  <tbody>\n",
       "    <tr>\n",
       "      <th>0</th>\n",
       "      <td>yes</td>\n",
       "      <td>0.045101</td>\n",
       "    </tr>\n",
       "  </tbody>\n",
       "</table>\n",
       "</div>"
      ],
      "text/plain": [
       "  Stroke  Probability\n",
       "0    yes     0.045101"
      ]
     },
     "metadata": {},
     "output_type": "display_data"
    },
    {
     "name": "stdout",
     "output_type": "stream",
     "text": [
      "\n",
      "Stroke given you have diabetes with added edge:\n"
     ]
    },
    {
     "data": {
      "text/html": [
       "<div>\n",
       "<style>\n",
       "    .dataframe thead tr:only-child th {\n",
       "        text-align: right;\n",
       "    }\n",
       "\n",
       "    .dataframe thead th {\n",
       "        text-align: left;\n",
       "    }\n",
       "\n",
       "    .dataframe tbody tr th {\n",
       "        vertical-align: top;\n",
       "    }\n",
       "</style>\n",
       "<table border=\"1\" class=\"dataframe\">\n",
       "  <thead>\n",
       "    <tr style=\"text-align: right;\">\n",
       "      <th></th>\n",
       "      <th>Stroke</th>\n",
       "      <th>Probability</th>\n",
       "    </tr>\n",
       "  </thead>\n",
       "  <tbody>\n",
       "    <tr>\n",
       "      <th>0</th>\n",
       "      <td>yes</td>\n",
       "      <td>0.076428</td>\n",
       "    </tr>\n",
       "  </tbody>\n",
       "</table>\n",
       "</div>"
      ],
      "text/plain": [
       "  Stroke  Probability\n",
       "0    yes     0.076428"
      ]
     },
     "metadata": {},
     "output_type": "display_data"
    },
    {
     "name": "stdout",
     "output_type": "stream",
     "text": [
      "\n",
      "Stroke given you don't have diabetes without added edge:\n"
     ]
    },
    {
     "data": {
      "text/html": [
       "<div>\n",
       "<style>\n",
       "    .dataframe thead tr:only-child th {\n",
       "        text-align: right;\n",
       "    }\n",
       "\n",
       "    .dataframe thead th {\n",
       "        text-align: left;\n",
       "    }\n",
       "\n",
       "    .dataframe tbody tr th {\n",
       "        vertical-align: top;\n",
       "    }\n",
       "</style>\n",
       "<table border=\"1\" class=\"dataframe\">\n",
       "  <thead>\n",
       "    <tr style=\"text-align: right;\">\n",
       "      <th></th>\n",
       "      <th>Stroke</th>\n",
       "      <th>Probability</th>\n",
       "    </tr>\n",
       "  </thead>\n",
       "  <tbody>\n",
       "    <tr>\n",
       "      <th>0</th>\n",
       "      <td>yes</td>\n",
       "      <td>0.041229</td>\n",
       "    </tr>\n",
       "  </tbody>\n",
       "</table>\n",
       "</div>"
      ],
      "text/plain": [
       "  Stroke  Probability\n",
       "0    yes     0.041229"
      ]
     },
     "metadata": {},
     "output_type": "display_data"
    },
    {
     "name": "stdout",
     "output_type": "stream",
     "text": [
      "\n",
      "Stroke given you don't have diabetes with added edge:\n"
     ]
    }
   ],
   "source": [
    "# New Bayesian network with connections between habits and outcomes as well as between diabetes and stroke\n",
    "stroke_h2 = createCPTfromData(data, [\"stroke\", \"bmi\", \"bp\", \"cholesterol\", \"smoke\", \"exercise\", \"diabetes\"])\n",
    "\n",
    "habit_network_2 = [income, bmi, exercise, smoke, bp, cholesterol, diabetes_h, stroke_h2, attack_h, angina_h]\n",
    "\n",
    "print(\"Stroke given you have diabetes without added edge:\")\n",
    "stroke_given_diabetes = infer(habit_network, stroke_marg, [\"diabetes\"], [1])\n",
    "stroke_given_diabetes = stroke_given_diabetes.drop(\"stroke\", 1)\n",
    "stroke_given_diabetes = stroke_given_diabetes.rename(columns={'probs':'Probability'})\n",
    "stroke_given_diabetes.insert(0, \"Stroke\", stroke_labels)\n",
    "stroke_given_diabetes.drop(stroke_given_diabetes.index[[1]], inplace=True)\n",
    "display(stroke_given_diabetes)\n",
    "print()\n",
    "\n",
    "print(\"Stroke given you have diabetes with added edge:\")\n",
    "stroke_given_diabetes = infer(habit_network_2, stroke_marg, [\"diabetes\"], [1])\n",
    "stroke_given_diabetes = stroke_given_diabetes.drop(\"stroke\", 1)\n",
    "stroke_given_diabetes = stroke_given_diabetes.rename(columns={'probs':'Probability'})\n",
    "stroke_given_diabetes.insert(0, \"Stroke\", stroke_labels)\n",
    "stroke_given_diabetes.drop(stroke_given_diabetes.index[[1]], inplace=True)\n",
    "display(stroke_given_diabetes)\n",
    "print()\n",
    "\n",
    "print(\"Stroke given you don't have diabetes without added edge:\")\n",
    "stroke_no_diabetes = infer(habit_network, stroke_marg, [\"diabetes\"], [3])\n",
    "stroke_no_diabetes = stroke_no_diabetes.drop(\"stroke\", 1)\n",
    "stroke_no_diabetes = stroke_no_diabetes.rename(columns={'probs':'Probability'})\n",
    "stroke_no_diabetes.insert(0, \"Stroke\", stroke_labels)\n",
    "stroke_no_diabetes.drop(stroke_no_diabetes.index[[1]], inplace=True)\n",
    "display(stroke_no_diabetes)\n",
    "print()\n",
    "\n",
    "print(\"Stroke given you don't have diabetes with added edge:\")\n",
    "stroke_no_diabetes = infer(habit_network_2, stroke_marg, [\"diabetes\"], [3])\n",
    "stroke_no_diabetes = stroke_no_diabetes.drop(\"stroke\", 1)\n",
    "stroke_no_diabetes = stroke_no_diabetes.rename(columns={'probs':'Probability'})\n",
    "stroke_no_diabetes.insert(0, \"Stroke\", stroke_labels)\n",
    "stroke_no_diabetes.drop(stroke_no_diabetes.index[[1]], inplace=True)\n",
    "display(stroke_no_diabetes)\n",
    "print()"
   ]
  },
  {
   "cell_type": "markdown",
   "metadata": {},
   "source": [
    "**For both networks, evaluate the following probabilities:**\n",
    "\n",
    "First the probabilities using the network from question 4:\n",
    "\n",
    "$$P(stroke = 1 \\ | \\ diabetes = 1) = 0.045101$$\n",
    "\n",
    "$$P(stroke = 1 \\ | \\ diabetes = 3) = 0.041229$$\n",
    "\n",
    "The same queries but using a network with an edge added from diabetes to stroke:\n",
    "\n",
    "$$P(stroke = 1 \\ | \\ diabetes = 1) = 0.076428$$\n",
    "\n",
    "$$P(stroke = 1 \\ | \\ diabetes = 3) = 0.035863$$\n",
    "\n",
    "**Again, what was the effect, and was the assumption about the interaction between diabetes\n",
    "and stroke valid?**\n",
    "\n",
    "By adding an edge from diabetes to stroke, the outcomes of the inference changed. We saw an increase in your chances of having a stroke if you already have diabetes by roughly $3.1\\%$. Additionally, your chances of having a stroke were lowered by roughly $0.5\\%$ assuming you don't have diabetes.\n",
    "\n",
    "I think this is a valid assumption. I think there is a link between diabetes and having a stroke. Both could have independent hereditary factors, but I think both are affected by your lifestyle. Thus, if you have diabetes I think you are more at risk of having a stroke."
   ]
  },
  {
   "cell_type": "markdown",
   "metadata": {},
   "source": [
    "**6. Finally, make sure that your code runs correctly on all of the examples in BayesNetExamples.py. Your code will be graded for correctness on these also.**\n",
    "\n",
    "I made some small changes to the provided examples to get them to behave correctly with my code. When _infer_ is called, the arguments need to be passed as lists even if there is only one item in the list (in the example code it is passed as a single element. This effects the Bishop book examples so I included the fixed version here."
   ]
  },
  {
   "cell_type": "code",
   "execution_count": 31,
   "metadata": {},
   "outputs": [
    {
     "name": "stdout",
     "output_type": "stream",
     "text": [
      "Expected: 0.315 Actual: 0.315\n",
      "Expected: 0.81 Actual: 0.81\n",
      "Expected: 0.257 Actual: 0.2571428571428572\n",
      "Expected: 0.111 Actual: 0.11111111111111112\n"
     ]
    }
   ],
   "source": [
    "#############################\n",
    "## Bishop book (Ch 8) example\n",
    "#############################\n",
    "b = createCPT(['battery'], [0.9, 0.1], [[1, 0]])\n",
    "f = createCPT(['fuel'], [0.9, 0.1], [[1, 0]])\n",
    "gbf = createCPT(['gauge', 'battery', 'fuel'], [0.8, 0.2, 0.2, 0.1, 0.2, 0.8, 0.8, 0.9], [[1, 0], [1, 0], [1, 0]])\n",
    "\n",
    "carNet = [b, f, gbf]\n",
    "\n",
    "## Some examples:\n",
    "## Notice that different order of operations give the same answer\n",
    "## (rows/columns may be permuted)\n",
    "productFactor(productFactor(b, f), gbf)\n",
    "productFactor(productFactor(gbf, f), b)\n",
    "\n",
    "marginalizeFactor(productFactor(gbf, b), 'gauge')\n",
    "productFactor(marginalizeFactor(gbf, 'gauge'), b)\n",
    "\n",
    "productFactor(marginalizeFactor(productFactor(gbf, b), 'battery'), f)\n",
    "marginalizeFactor(productFactor(productFactor(gbf, f), b), 'battery')\n",
    "\n",
    "marginalizeFactor(productFactor(marginalizeFactor(productFactor(gbf, b), 'battery'), f), 'gauge')\n",
    "marginalizeFactor(productFactor(marginalizeFactor(productFactor(gbf, b), 'battery'), f), 'fuel')\n",
    "\n",
    "## Examples computed in book (see pg. 377)\n",
    "A = infer(carNet, ['battery', 'fuel'], [], [])      ## (8.30)\n",
    "print(\"Expected: {} Actual: {}\".format(0.315, A.iloc[1]['probs']))\n",
    "B = infer(carNet, ['battery'], ['fuel'], [0])           ## (8.31)\n",
    "print(\"Expected: {} Actual: {}\".format(0.81, B.iloc[1]['probs']))\n",
    "C = infer(carNet, ['battery'], ['gauge'], [0])          ## (8.32)\n",
    "print(\"Expected: {} Actual: {}\".format(0.257, C.iloc[1]['probs']))\n",
    "D = infer(carNet, [], ['gauge', 'battery'], [0, 0]) ## (8.33)\n",
    "print(\"Expected: {} Actual: {}\".format(0.111, D.iloc[1]['probs']))"
   ]
  },
  {
   "cell_type": "code",
   "execution_count": 2,
   "metadata": {},
   "outputs": [
    {
     "name": "stdout",
     "output_type": "stream",
     "text": [
      "   probs  j  a\n",
      "0   0.90  T  T\n",
      "1   0.10  F  T\n",
      "2   0.05  T  F\n",
      "3   0.95  F  F\n",
      "   probs  B\n",
      "0   0.75  T\n",
      "1   0.25  F\n",
      "      probs  B  C\n",
      "0  0.333333  T  T\n",
      "1  0.500000  F  T\n",
      "2  0.666667  T  F\n",
      "3  0.500000  F  F\n",
      "      probs  C  A\n",
      "0  0.250000  T  T\n",
      "1  0.666667  F  T\n",
      "2  0.750000  T  F\n",
      "3  0.333333  F  F\n",
      "      probs  C  B  A\n",
      "0  0.062500  T  T  T\n",
      "1  0.333333  F  T  T\n",
      "2  0.031250  T  F  T\n",
      "3  0.083333  F  F  T\n",
      "4  0.187500  T  T  F\n",
      "5  0.166667  F  T  F\n",
      "6  0.093750  T  F  F\n",
      "7  0.041667  F  F  F\n"
     ]
    },
    {
     "data": {
      "text/html": [
       "<div>\n",
       "<style>\n",
       "    .dataframe thead tr:only-child th {\n",
       "        text-align: right;\n",
       "    }\n",
       "\n",
       "    .dataframe thead th {\n",
       "        text-align: left;\n",
       "    }\n",
       "\n",
       "    .dataframe tbody tr th {\n",
       "        vertical-align: top;\n",
       "    }\n",
       "</style>\n",
       "<table border=\"1\" class=\"dataframe\">\n",
       "  <thead>\n",
       "    <tr style=\"text-align: right;\">\n",
       "      <th></th>\n",
       "      <th>probs</th>\n",
       "      <th>C</th>\n",
       "      <th>B</th>\n",
       "      <th>A</th>\n",
       "    </tr>\n",
       "  </thead>\n",
       "  <tbody>\n",
       "    <tr>\n",
       "      <th>0</th>\n",
       "      <td>0.062500</td>\n",
       "      <td>T</td>\n",
       "      <td>T</td>\n",
       "      <td>T</td>\n",
       "    </tr>\n",
       "    <tr>\n",
       "      <th>1</th>\n",
       "      <td>0.333333</td>\n",
       "      <td>F</td>\n",
       "      <td>T</td>\n",
       "      <td>T</td>\n",
       "    </tr>\n",
       "    <tr>\n",
       "      <th>2</th>\n",
       "      <td>0.031250</td>\n",
       "      <td>T</td>\n",
       "      <td>F</td>\n",
       "      <td>T</td>\n",
       "    </tr>\n",
       "    <tr>\n",
       "      <th>3</th>\n",
       "      <td>0.083333</td>\n",
       "      <td>F</td>\n",
       "      <td>F</td>\n",
       "      <td>T</td>\n",
       "    </tr>\n",
       "    <tr>\n",
       "      <th>4</th>\n",
       "      <td>0.187500</td>\n",
       "      <td>T</td>\n",
       "      <td>T</td>\n",
       "      <td>F</td>\n",
       "    </tr>\n",
       "    <tr>\n",
       "      <th>5</th>\n",
       "      <td>0.166667</td>\n",
       "      <td>F</td>\n",
       "      <td>T</td>\n",
       "      <td>F</td>\n",
       "    </tr>\n",
       "    <tr>\n",
       "      <th>6</th>\n",
       "      <td>0.093750</td>\n",
       "      <td>T</td>\n",
       "      <td>F</td>\n",
       "      <td>F</td>\n",
       "    </tr>\n",
       "    <tr>\n",
       "      <th>7</th>\n",
       "      <td>0.041667</td>\n",
       "      <td>F</td>\n",
       "      <td>F</td>\n",
       "      <td>F</td>\n",
       "    </tr>\n",
       "  </tbody>\n",
       "</table>\n",
       "</div>"
      ],
      "text/plain": [
       "      probs  C  B  A\n",
       "0  0.062500  T  T  T\n",
       "1  0.333333  F  T  T\n",
       "2  0.031250  T  F  T\n",
       "3  0.083333  F  F  T\n",
       "4  0.187500  T  T  F\n",
       "5  0.166667  F  T  F\n",
       "6  0.093750  T  F  F\n",
       "7  0.041667  F  F  F"
      ]
     },
     "execution_count": 2,
     "metadata": {},
     "output_type": "execute_result"
    }
   ],
   "source": [
    "from bayesian_network import *\n",
    "\n",
    "b = createCPT(['b'], [0.001, 0.999], [['T','F']])\n",
    "e = createCPT(['e'], [0.002, 0.998], [['T', 'F']])\n",
    "ja = createCPT(['a', 'j'], [0.9, 0.1, 0.05, 0.95], [['T', 'F'],['T','F']])\n",
    "print(ja)\n",
    "ma = createCPT(['a', 'm'], [0.7, 0.3, 0.01, 0.99], [['T', 'F'],['T', 'F']])\n",
    "abe = createCPT(['a', 'b', 'e'], [0.95, 0.94, 0.29, 0.001, 0.05, 0.06, 0.71, 0.999], [['T','F'],['T','F'],['T','F']])\n",
    "\n",
    "net = [b, e, ja, ma, abe]\n",
    "\n",
    "B = createCPT(['B'], [0.75, 0.25], [['T', 'F']])\n",
    "CB = createCPT(['C', 'B'], [1/3, 1/2, 2/3, 1/2], [['T', 'F'], ['T', 'F']])\n",
    "AC = createCPT(['A', 'C'], [1/4, 2/3, 3/4, 1/3], [['T', 'F'], ['T', 'F']])\n",
    "net2 = [B, CB, AC]\n",
    "\n",
    "infer(net2, [], [], [])"
   ]
  },
  {
   "cell_type": "code",
   "execution_count": null,
   "metadata": {
    "collapsed": true
   },
   "outputs": [],
   "source": []
  },
  {
   "cell_type": "code",
   "execution_count": null,
   "metadata": {
    "collapsed": true
   },
   "outputs": [],
   "source": []
  }
 ],
 "metadata": {
  "kernelspec": {
   "display_name": "Python 3",
   "language": "python",
   "name": "python3"
  },
  "language_info": {
   "codemirror_mode": {
    "name": "ipython",
    "version": 3
   },
   "file_extension": ".py",
   "mimetype": "text/x-python",
   "name": "python",
   "nbconvert_exporter": "python",
   "pygments_lexer": "ipython3",
   "version": "3.6.3"
  }
 },
 "nbformat": 4,
 "nbformat_minor": 2
}
