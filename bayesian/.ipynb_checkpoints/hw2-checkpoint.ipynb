{
 "cells": [
  {
   "cell_type": "markdown",
   "metadata": {},
   "source": [
    "# Homework 2\n",
    "### Jake Pitkin\n",
    "**CS 6190: Probabilistic Modeling - Spring 2018**<br>\n",
    "**February 19 2018**"
   ]
  },
  {
   "cell_type": "markdown",
   "metadata": {},
   "source": [
    "**1. Create the following Bayesian network to analyze the survey results. You will want to use the provided function createCPTfromData.**\n",
    "\n",
    "<img src=\"img/network.png\" width=\"855\" height=\"611\" align=\"center\"/>\n",
    "\n",
    "First we will create the following Bayesian network using the Behavioral Risk Factor Surveillance System\n",
    "(BRFSS) survey data. The source code for the Bayesian network is located in `bayesian_network.py`."
   ]
  },
  {
   "cell_type": "code",
   "execution_count": 58,
   "metadata": {
    "collapsed": true
   },
   "outputs": [],
   "source": [
    "from bayesian_network import *\n",
    "\n",
    "# Read in the dataset\n",
    "data = pd.read_csv(\"RiskFactors.csv\")\n",
    "\n",
    "# Create the Bayesian network from the dataset\n",
    "income = createCPTfromData(data, [\"income\"])\n",
    "bmi = createCPTfromData(data, [\"bmi\", \"income\", \"exercise\"])\n",
    "exercise = createCPTfromData(data, [\"exercise\", \"income\"])\n",
    "smoke = createCPTfromData(data, [\"smoke\", \"income\"])\n",
    "bp = createCPTfromData(data, [\"bp\", \"income\", \"exercise\", \"smoke\"])\n",
    "cholesterol = createCPTfromData(data, [\"cholesterol\", \"income\", \"smoke\", \"exercise\"])\n",
    "diabetes = createCPTfromData(data, [\"diabetes\", \"bmi\"])\n",
    "stroke = createCPTfromData(data, [\"stroke\", \"bmi\", \"bp\", \"cholesterol\"])\n",
    "attack = createCPTfromData(data, [\"attack\", \"bmi\", \"bp\", \"cholesterol\"])\n",
    "angina = createCPTfromData(data, [\"angina\", \"bmi\", \"bp\", \"cholesterol\"])\n",
    "network = [income, bmi, exercise, smoke, bp, cholesterol, diabetes, stroke, attack, angina]\n",
    "variables = [\"income\", \"bmi\", \"exercise\", \"smoke\", \"bp\", \"cholesterol\", \"diabetes\", \"stroke\", \"attack\", \"angina\"]"
   ]
  },
  {
   "cell_type": "markdown",
   "metadata": {
    "collapsed": true
   },
   "source": [
    "**1a. What is the size (in terms of the number of probabilities needed) of this network?**\n",
    "\n",
    "The size of the network can be determined by considering the number of rows in each factor of the network."
   ]
  },
  {
   "cell_type": "code",
   "execution_count": 59,
   "metadata": {},
   "outputs": [
    {
     "name": "stdout",
     "output_type": "stream",
     "text": [
      "504\n"
     ]
    }
   ],
   "source": [
    "rows = 0\n",
    "for factor in network:\n",
    "    rows += factor.shape[0]\n",
    "print(rows)"
   ]
  },
  {
   "cell_type": "markdown",
   "metadata": {},
   "source": [
    "The size of this network is 504 probabilities."
   ]
  },
  {
   "cell_type": "markdown",
   "metadata": {},
   "source": [
    "**1b. What is the total number of probabilities needed to store the full joint distribution?**\n",
    "\n",
    "For the entire joint distribution, we take the product of the number of values each random variable can take:\n",
    "\n",
    "$$\\prod_{i=1}^{10} \\ n(domain_i) = 8 * 2 * 2 * 4 * 4 * 2 * 2 * 2 * 2 * 4 = 32,768$$\n",
    "\n",
    "The size of the full join distribution is 32,768 probabilities."
   ]
  },
  {
   "cell_type": "markdown",
   "metadata": {},
   "source": [
    "**2. For each of the four health outcomes (diabetes, stroke, heart attack, angina), answer the following by querying your network (using your infer function):**"
   ]
  },
  {
   "cell_type": "markdown",
   "metadata": {},
   "source": [
    "**2a. What is the probabilitiy of the outcome if I have bad habits (smoke and don't exercise)?**"
   ]
  },
  {
   "cell_type": "code",
   "execution_count": 60,
   "metadata": {
    "scrolled": false
   },
   "outputs": [
    {
     "name": "stdout",
     "output_type": "stream",
     "text": [
      "Diabetes outcomes with bad habits:\n"
     ]
    },
    {
     "data": {
      "text/html": [
       "<div>\n",
       "<style>\n",
       "    .dataframe thead tr:only-child th {\n",
       "        text-align: right;\n",
       "    }\n",
       "\n",
       "    .dataframe thead th {\n",
       "        text-align: left;\n",
       "    }\n",
       "\n",
       "    .dataframe tbody tr th {\n",
       "        vertical-align: top;\n",
       "    }\n",
       "</style>\n",
       "<table border=\"1\" class=\"dataframe\">\n",
       "  <thead>\n",
       "    <tr style=\"text-align: right;\">\n",
       "      <th></th>\n",
       "      <th>Diabetes</th>\n",
       "      <th>Probability</th>\n",
       "    </tr>\n",
       "  </thead>\n",
       "  <tbody>\n",
       "    <tr>\n",
       "      <th>0</th>\n",
       "      <td>yes</td>\n",
       "      <td>0.159330</td>\n",
       "    </tr>\n",
       "    <tr>\n",
       "      <th>1</th>\n",
       "      <td>only during pregnancy</td>\n",
       "      <td>0.007881</td>\n",
       "    </tr>\n",
       "    <tr>\n",
       "      <th>2</th>\n",
       "      <td>no</td>\n",
       "      <td>0.812632</td>\n",
       "    </tr>\n",
       "    <tr>\n",
       "      <th>3</th>\n",
       "      <td>pre-diabetic</td>\n",
       "      <td>0.020156</td>\n",
       "    </tr>\n",
       "  </tbody>\n",
       "</table>\n",
       "</div>"
      ],
      "text/plain": [
       "                Diabetes  Probability\n",
       "0                    yes     0.159330\n",
       "1  only during pregnancy     0.007881\n",
       "2                     no     0.812632\n",
       "3           pre-diabetic     0.020156"
      ]
     },
     "metadata": {},
     "output_type": "display_data"
    },
    {
     "name": "stdout",
     "output_type": "stream",
     "text": [
      "\n",
      "Stroke outcomes with bad habits:\n"
     ]
    },
    {
     "data": {
      "text/html": [
       "<div>\n",
       "<style>\n",
       "    .dataframe thead tr:only-child th {\n",
       "        text-align: right;\n",
       "    }\n",
       "\n",
       "    .dataframe thead th {\n",
       "        text-align: left;\n",
       "    }\n",
       "\n",
       "    .dataframe tbody tr th {\n",
       "        vertical-align: top;\n",
       "    }\n",
       "</style>\n",
       "<table border=\"1\" class=\"dataframe\">\n",
       "  <thead>\n",
       "    <tr style=\"text-align: right;\">\n",
       "      <th></th>\n",
       "      <th>Stroke</th>\n",
       "      <th>Probability</th>\n",
       "    </tr>\n",
       "  </thead>\n",
       "  <tbody>\n",
       "    <tr>\n",
       "      <th>0</th>\n",
       "      <td>yes</td>\n",
       "      <td>0.050127</td>\n",
       "    </tr>\n",
       "    <tr>\n",
       "      <th>1</th>\n",
       "      <td>no</td>\n",
       "      <td>0.949873</td>\n",
       "    </tr>\n",
       "  </tbody>\n",
       "</table>\n",
       "</div>"
      ],
      "text/plain": [
       "  Stroke  Probability\n",
       "0    yes     0.050127\n",
       "1     no     0.949873"
      ]
     },
     "metadata": {},
     "output_type": "display_data"
    },
    {
     "name": "stdout",
     "output_type": "stream",
     "text": [
      "\n",
      "Heart attack outcomes with bad habits:\n"
     ]
    },
    {
     "data": {
      "text/html": [
       "<div>\n",
       "<style>\n",
       "    .dataframe thead tr:only-child th {\n",
       "        text-align: right;\n",
       "    }\n",
       "\n",
       "    .dataframe thead th {\n",
       "        text-align: left;\n",
       "    }\n",
       "\n",
       "    .dataframe tbody tr th {\n",
       "        vertical-align: top;\n",
       "    }\n",
       "</style>\n",
       "<table border=\"1\" class=\"dataframe\">\n",
       "  <thead>\n",
       "    <tr style=\"text-align: right;\">\n",
       "      <th></th>\n",
       "      <th>Heart Attack</th>\n",
       "      <th>Probability</th>\n",
       "    </tr>\n",
       "  </thead>\n",
       "  <tbody>\n",
       "    <tr>\n",
       "      <th>0</th>\n",
       "      <td>yes</td>\n",
       "      <td>0.072415</td>\n",
       "    </tr>\n",
       "    <tr>\n",
       "      <th>1</th>\n",
       "      <td>no</td>\n",
       "      <td>0.927585</td>\n",
       "    </tr>\n",
       "  </tbody>\n",
       "</table>\n",
       "</div>"
      ],
      "text/plain": [
       "  Heart Attack  Probability\n",
       "0          yes     0.072415\n",
       "1           no     0.927585"
      ]
     },
     "metadata": {},
     "output_type": "display_data"
    },
    {
     "name": "stdout",
     "output_type": "stream",
     "text": [
      "\n",
      "Angina outcomes with bad habits:\n"
     ]
    },
    {
     "data": {
      "text/html": [
       "<div>\n",
       "<style>\n",
       "    .dataframe thead tr:only-child th {\n",
       "        text-align: right;\n",
       "    }\n",
       "\n",
       "    .dataframe thead th {\n",
       "        text-align: left;\n",
       "    }\n",
       "\n",
       "    .dataframe tbody tr th {\n",
       "        vertical-align: top;\n",
       "    }\n",
       "</style>\n",
       "<table border=\"1\" class=\"dataframe\">\n",
       "  <thead>\n",
       "    <tr style=\"text-align: right;\">\n",
       "      <th></th>\n",
       "      <th>Angina</th>\n",
       "      <th>Probability</th>\n",
       "    </tr>\n",
       "  </thead>\n",
       "  <tbody>\n",
       "    <tr>\n",
       "      <th>0</th>\n",
       "      <td>yes</td>\n",
       "      <td>0.077756</td>\n",
       "    </tr>\n",
       "    <tr>\n",
       "      <th>1</th>\n",
       "      <td>no</td>\n",
       "      <td>0.922244</td>\n",
       "    </tr>\n",
       "  </tbody>\n",
       "</table>\n",
       "</div>"
      ],
      "text/plain": [
       "  Angina  Probability\n",
       "0    yes     0.077756\n",
       "1     no     0.922244"
      ]
     },
     "metadata": {},
     "output_type": "display_data"
    },
    {
     "name": "stdout",
     "output_type": "stream",
     "text": [
      "\n"
     ]
    }
   ],
   "source": [
    "# English labels to replace numerical labels before printing table\n",
    "diabetes_labels = [\"yes\", \"only during pregnancy\", \"no\", \"pre-diabetic\"]\n",
    "stroke_labels = [\"yes\", \"no\"]\n",
    "heart_attack_labels = [\"yes\", \"no\"]\n",
    "angina_labels = [\"yes\", \"no\"]\n",
    "\n",
    "# Variables to marginalize out of each inference\n",
    "diabetes_marg = [x for x in variables if x != \"diabetes\"]\n",
    "stroke_marg = [x for x in variables if x != \"stroke\"]\n",
    "heart_attack_marg = [x for x in variables if x != \"attack\"]\n",
    "angina_marg = [x for x in variables if x != \"angina\"]\n",
    "\n",
    "print(\"Diabetes outcomes with bad habits:\")\n",
    "diabetes = infer(network, diabetes_marg, [\"smoke\", \"exercise\"], [1, 2])\n",
    "diabetes = diabetes.drop(\"diabetes\", 1)\n",
    "diabetes = diabetes.rename(columns={'probs':'Probability'})\n",
    "diabetes.insert(0, \"Diabetes\", diabetes_labels)\n",
    "display(diabetes)\n",
    "print()\n",
    "\n",
    "print(\"Stroke outcomes with bad habits:\")\n",
    "stroke = infer(network, stroke_marg, [\"smoke\", \"exercise\"], [1, 2])\n",
    "stroke = stroke.drop(\"stroke\", 1)\n",
    "stroke = stroke.rename(columns={'probs':'Probability'})\n",
    "stroke.insert(0, \"Stroke\", stroke_labels)\n",
    "display(stroke)\n",
    "print()\n",
    "\n",
    "print(\"Heart attack outcomes with bad habits:\")\n",
    "heart_attack = infer(network, heart_attack_marg, [\"smoke\", \"exercise\"], [1, 2])\n",
    "heart_attack = heart_attack.drop(\"attack\", 1)\n",
    "heart_attack = heart_attack.rename(columns={'probs':'Probability'})\n",
    "heart_attack.insert(0, \"Heart Attack\", stroke_labels)\n",
    "display(heart_attack)\n",
    "print()\n",
    "\n",
    "print(\"Angina outcomes with bad habits:\")\n",
    "angina = infer(network, angina_marg, [\"smoke\", \"exercise\"], [1, 2])\n",
    "angina = angina.drop(\"angina\", 1)\n",
    "angina = angina.rename(columns={'probs':'Probability'})\n",
    "angina.insert(0, \"Angina\", stroke_labels)\n",
    "display(angina)\n",
    "print()"
   ]
  },
  {
   "cell_type": "markdown",
   "metadata": {},
   "source": [
    "**2a. How about if I have good habits (don't smoke and do exercise)**"
   ]
  },
  {
   "cell_type": "code",
   "execution_count": 61,
   "metadata": {},
   "outputs": [
    {
     "name": "stdout",
     "output_type": "stream",
     "text": [
      "Diabetes outcomes with good habits:\n"
     ]
    },
    {
     "data": {
      "text/html": [
       "<div>\n",
       "<style>\n",
       "    .dataframe thead tr:only-child th {\n",
       "        text-align: right;\n",
       "    }\n",
       "\n",
       "    .dataframe thead th {\n",
       "        text-align: left;\n",
       "    }\n",
       "\n",
       "    .dataframe tbody tr th {\n",
       "        vertical-align: top;\n",
       "    }\n",
       "</style>\n",
       "<table border=\"1\" class=\"dataframe\">\n",
       "  <thead>\n",
       "    <tr style=\"text-align: right;\">\n",
       "      <th></th>\n",
       "      <th>Diabetes</th>\n",
       "      <th>Probability</th>\n",
       "    </tr>\n",
       "  </thead>\n",
       "  <tbody>\n",
       "    <tr>\n",
       "      <th>0</th>\n",
       "      <td>yes</td>\n",
       "      <td>0.135062</td>\n",
       "    </tr>\n",
       "    <tr>\n",
       "      <th>1</th>\n",
       "      <td>only during pregnancy</td>\n",
       "      <td>0.007674</td>\n",
       "    </tr>\n",
       "    <tr>\n",
       "      <th>2</th>\n",
       "      <td>no</td>\n",
       "      <td>0.839392</td>\n",
       "    </tr>\n",
       "    <tr>\n",
       "      <th>3</th>\n",
       "      <td>pre-diabetic</td>\n",
       "      <td>0.017873</td>\n",
       "    </tr>\n",
       "  </tbody>\n",
       "</table>\n",
       "</div>"
      ],
      "text/plain": [
       "                Diabetes  Probability\n",
       "0                    yes     0.135062\n",
       "1  only during pregnancy     0.007674\n",
       "2                     no     0.839392\n",
       "3           pre-diabetic     0.017873"
      ]
     },
     "metadata": {},
     "output_type": "display_data"
    },
    {
     "name": "stdout",
     "output_type": "stream",
     "text": [
      "\n",
      "Stroke outcomes with good habits:\n"
     ]
    },
    {
     "data": {
      "text/html": [
       "<div>\n",
       "<style>\n",
       "    .dataframe thead tr:only-child th {\n",
       "        text-align: right;\n",
       "    }\n",
       "\n",
       "    .dataframe thead th {\n",
       "        text-align: left;\n",
       "    }\n",
       "\n",
       "    .dataframe tbody tr th {\n",
       "        vertical-align: top;\n",
       "    }\n",
       "</style>\n",
       "<table border=\"1\" class=\"dataframe\">\n",
       "  <thead>\n",
       "    <tr style=\"text-align: right;\">\n",
       "      <th></th>\n",
       "      <th>Stroke</th>\n",
       "      <th>Probability</th>\n",
       "    </tr>\n",
       "  </thead>\n",
       "  <tbody>\n",
       "    <tr>\n",
       "      <th>0</th>\n",
       "      <td>yes</td>\n",
       "      <td>0.036808</td>\n",
       "    </tr>\n",
       "    <tr>\n",
       "      <th>1</th>\n",
       "      <td>no</td>\n",
       "      <td>0.963192</td>\n",
       "    </tr>\n",
       "  </tbody>\n",
       "</table>\n",
       "</div>"
      ],
      "text/plain": [
       "  Stroke  Probability\n",
       "0    yes     0.036808\n",
       "1     no     0.963192"
      ]
     },
     "metadata": {},
     "output_type": "display_data"
    },
    {
     "name": "stdout",
     "output_type": "stream",
     "text": [
      "\n",
      "Heart attack outcomes with good habits:\n"
     ]
    },
    {
     "data": {
      "text/html": [
       "<div>\n",
       "<style>\n",
       "    .dataframe thead tr:only-child th {\n",
       "        text-align: right;\n",
       "    }\n",
       "\n",
       "    .dataframe thead th {\n",
       "        text-align: left;\n",
       "    }\n",
       "\n",
       "    .dataframe tbody tr th {\n",
       "        vertical-align: top;\n",
       "    }\n",
       "</style>\n",
       "<table border=\"1\" class=\"dataframe\">\n",
       "  <thead>\n",
       "    <tr style=\"text-align: right;\">\n",
       "      <th></th>\n",
       "      <th>Heart Attack</th>\n",
       "      <th>Probability</th>\n",
       "    </tr>\n",
       "  </thead>\n",
       "  <tbody>\n",
       "    <tr>\n",
       "      <th>0</th>\n",
       "      <td>yes</td>\n",
       "      <td>0.051027</td>\n",
       "    </tr>\n",
       "    <tr>\n",
       "      <th>1</th>\n",
       "      <td>no</td>\n",
       "      <td>0.948973</td>\n",
       "    </tr>\n",
       "  </tbody>\n",
       "</table>\n",
       "</div>"
      ],
      "text/plain": [
       "  Heart Attack  Probability\n",
       "0          yes     0.051027\n",
       "1           no     0.948973"
      ]
     },
     "metadata": {},
     "output_type": "display_data"
    },
    {
     "name": "stdout",
     "output_type": "stream",
     "text": [
      "\n",
      "Angina outcomes with good habits:\n"
     ]
    },
    {
     "data": {
      "text/html": [
       "<div>\n",
       "<style>\n",
       "    .dataframe thead tr:only-child th {\n",
       "        text-align: right;\n",
       "    }\n",
       "\n",
       "    .dataframe thead th {\n",
       "        text-align: left;\n",
       "    }\n",
       "\n",
       "    .dataframe tbody tr th {\n",
       "        vertical-align: top;\n",
       "    }\n",
       "</style>\n",
       "<table border=\"1\" class=\"dataframe\">\n",
       "  <thead>\n",
       "    <tr style=\"text-align: right;\">\n",
       "      <th></th>\n",
       "      <th>Angina</th>\n",
       "      <th>Probability</th>\n",
       "    </tr>\n",
       "  </thead>\n",
       "  <tbody>\n",
       "    <tr>\n",
       "      <th>0</th>\n",
       "      <td>yes</td>\n",
       "      <td>0.052319</td>\n",
       "    </tr>\n",
       "    <tr>\n",
       "      <th>1</th>\n",
       "      <td>no</td>\n",
       "      <td>0.947681</td>\n",
       "    </tr>\n",
       "  </tbody>\n",
       "</table>\n",
       "</div>"
      ],
      "text/plain": [
       "  Angina  Probability\n",
       "0    yes     0.052319\n",
       "1     no     0.947681"
      ]
     },
     "metadata": {},
     "output_type": "display_data"
    },
    {
     "name": "stdout",
     "output_type": "stream",
     "text": [
      "\n"
     ]
    }
   ],
   "source": [
    "print(\"Diabetes outcomes with good habits:\")\n",
    "diabetes = infer(network, diabetes_marg, [\"smoke\", \"exercise\"], [2, 1])\n",
    "diabetes = diabetes.drop(\"diabetes\", 1)\n",
    "diabetes = diabetes.rename(columns={'probs':'Probability'})\n",
    "diabetes.insert(0, \"Diabetes\", diabetes_labels)\n",
    "display(diabetes)\n",
    "print()\n",
    "\n",
    "print(\"Stroke outcomes with good habits:\")\n",
    "stroke = infer(network, stroke_marg, [\"smoke\", \"exercise\"], [2, 1])\n",
    "stroke = stroke.drop(\"stroke\", 1)\n",
    "stroke = stroke.rename(columns={'probs':'Probability'})\n",
    "stroke.insert(0, \"Stroke\", stroke_labels)\n",
    "display(stroke)\n",
    "print()\n",
    "\n",
    "print(\"Heart attack outcomes with good habits:\")\n",
    "heart_attack = infer(network, heart_attack_marg, [\"smoke\", \"exercise\"], [2, 1])\n",
    "heart_attack = heart_attack.drop(\"attack\", 1)\n",
    "heart_attack = heart_attack.rename(columns={'probs':'Probability'})\n",
    "heart_attack.insert(0, \"Heart Attack\", stroke_labels)\n",
    "display(heart_attack)\n",
    "print()\n",
    "\n",
    "print(\"Angina outcomes with good habits:\")\n",
    "angina = infer(network, angina_marg, [\"smoke\", \"exercise\"], [2, 1])\n",
    "angina = angina.drop(\"angina\", 1)\n",
    "angina = angina.rename(columns={'probs':'Probability'})\n",
    "angina.insert(0, \"Angina\", stroke_labels)\n",
    "display(angina)\n",
    "print()"
   ]
  },
  {
   "cell_type": "markdown",
   "metadata": {},
   "source": [
    "**2b. What is the probability of the outcome if I have poor health (high blood pressure, high cholesterol, and overweight)?**"
   ]
  },
  {
   "cell_type": "code",
   "execution_count": 92,
   "metadata": {},
   "outputs": [
    {
     "name": "stdout",
     "output_type": "stream",
     "text": [
      "Diabetes outcomes with poor health:\n"
     ]
    },
    {
     "data": {
      "text/html": [
       "<div>\n",
       "<style>\n",
       "    .dataframe thead tr:only-child th {\n",
       "        text-align: right;\n",
       "    }\n",
       "\n",
       "    .dataframe thead th {\n",
       "        text-align: left;\n",
       "    }\n",
       "\n",
       "    .dataframe tbody tr th {\n",
       "        vertical-align: top;\n",
       "    }\n",
       "</style>\n",
       "<table border=\"1\" class=\"dataframe\">\n",
       "  <thead>\n",
       "    <tr style=\"text-align: right;\">\n",
       "      <th></th>\n",
       "      <th>Diabetes</th>\n",
       "      <th>Probability</th>\n",
       "    </tr>\n",
       "  </thead>\n",
       "  <tbody>\n",
       "    <tr>\n",
       "      <th>0</th>\n",
       "      <td>yes</td>\n",
       "      <td>0.122279</td>\n",
       "    </tr>\n",
       "    <tr>\n",
       "      <th>1</th>\n",
       "      <td>only during pregnancy</td>\n",
       "      <td>0.006718</td>\n",
       "    </tr>\n",
       "    <tr>\n",
       "      <th>2</th>\n",
       "      <td>no</td>\n",
       "      <td>0.854003</td>\n",
       "    </tr>\n",
       "    <tr>\n",
       "      <th>3</th>\n",
       "      <td>pre-diabetic</td>\n",
       "      <td>0.017000</td>\n",
       "    </tr>\n",
       "  </tbody>\n",
       "</table>\n",
       "</div>"
      ],
      "text/plain": [
       "                Diabetes  Probability\n",
       "0                    yes     0.122279\n",
       "1  only during pregnancy     0.006718\n",
       "2                     no     0.854003\n",
       "3           pre-diabetic     0.017000"
      ]
     },
     "metadata": {},
     "output_type": "display_data"
    },
    {
     "name": "stdout",
     "output_type": "stream",
     "text": [
      "\n",
      "Stroke outcomes with poor health:\n"
     ]
    },
    {
     "data": {
      "text/html": [
       "<div>\n",
       "<style>\n",
       "    .dataframe thead tr:only-child th {\n",
       "        text-align: right;\n",
       "    }\n",
       "\n",
       "    .dataframe thead th {\n",
       "        text-align: left;\n",
       "    }\n",
       "\n",
       "    .dataframe tbody tr th {\n",
       "        vertical-align: top;\n",
       "    }\n",
       "</style>\n",
       "<table border=\"1\" class=\"dataframe\">\n",
       "  <thead>\n",
       "    <tr style=\"text-align: right;\">\n",
       "      <th></th>\n",
       "      <th>Stroke</th>\n",
       "      <th>Probability</th>\n",
       "    </tr>\n",
       "  </thead>\n",
       "  <tbody>\n",
       "    <tr>\n",
       "      <th>0</th>\n",
       "      <td>yes</td>\n",
       "      <td>0.083975</td>\n",
       "    </tr>\n",
       "    <tr>\n",
       "      <th>1</th>\n",
       "      <td>no</td>\n",
       "      <td>0.916025</td>\n",
       "    </tr>\n",
       "  </tbody>\n",
       "</table>\n",
       "</div>"
      ],
      "text/plain": [
       "  Stroke  Probability\n",
       "0    yes     0.083975\n",
       "1     no     0.916025"
      ]
     },
     "metadata": {},
     "output_type": "display_data"
    },
    {
     "name": "stdout",
     "output_type": "stream",
     "text": [
      "\n",
      "Heart attack outcomes with poor health:\n"
     ]
    },
    {
     "data": {
      "text/html": [
       "<div>\n",
       "<style>\n",
       "    .dataframe thead tr:only-child th {\n",
       "        text-align: right;\n",
       "    }\n",
       "\n",
       "    .dataframe thead th {\n",
       "        text-align: left;\n",
       "    }\n",
       "\n",
       "    .dataframe tbody tr th {\n",
       "        vertical-align: top;\n",
       "    }\n",
       "</style>\n",
       "<table border=\"1\" class=\"dataframe\">\n",
       "  <thead>\n",
       "    <tr style=\"text-align: right;\">\n",
       "      <th></th>\n",
       "      <th>Heart Attack</th>\n",
       "      <th>Probability</th>\n",
       "    </tr>\n",
       "  </thead>\n",
       "  <tbody>\n",
       "    <tr>\n",
       "      <th>0</th>\n",
       "      <td>yes</td>\n",
       "      <td>0.13433</td>\n",
       "    </tr>\n",
       "    <tr>\n",
       "      <th>1</th>\n",
       "      <td>no</td>\n",
       "      <td>0.86567</td>\n",
       "    </tr>\n",
       "  </tbody>\n",
       "</table>\n",
       "</div>"
      ],
      "text/plain": [
       "  Heart Attack  Probability\n",
       "0          yes      0.13433\n",
       "1           no      0.86567"
      ]
     },
     "metadata": {},
     "output_type": "display_data"
    },
    {
     "name": "stdout",
     "output_type": "stream",
     "text": [
      "\n",
      "Angina outcomes with poor health:\n"
     ]
    },
    {
     "data": {
      "text/html": [
       "<div>\n",
       "<style>\n",
       "    .dataframe thead tr:only-child th {\n",
       "        text-align: right;\n",
       "    }\n",
       "\n",
       "    .dataframe thead th {\n",
       "        text-align: left;\n",
       "    }\n",
       "\n",
       "    .dataframe tbody tr th {\n",
       "        vertical-align: top;\n",
       "    }\n",
       "</style>\n",
       "<table border=\"1\" class=\"dataframe\">\n",
       "  <thead>\n",
       "    <tr style=\"text-align: right;\">\n",
       "      <th></th>\n",
       "      <th>Angina</th>\n",
       "      <th>Probability</th>\n",
       "    </tr>\n",
       "  </thead>\n",
       "  <tbody>\n",
       "    <tr>\n",
       "      <th>0</th>\n",
       "      <td>yes</td>\n",
       "      <td>0.153185</td>\n",
       "    </tr>\n",
       "    <tr>\n",
       "      <th>1</th>\n",
       "      <td>no</td>\n",
       "      <td>0.846815</td>\n",
       "    </tr>\n",
       "  </tbody>\n",
       "</table>\n",
       "</div>"
      ],
      "text/plain": [
       "  Angina  Probability\n",
       "0    yes     0.153185\n",
       "1     no     0.846815"
      ]
     },
     "metadata": {},
     "output_type": "display_data"
    },
    {
     "name": "stdout",
     "output_type": "stream",
     "text": [
      "\n"
     ]
    }
   ],
   "source": [
    "print(\"Diabetes outcomes with poor health:\")\n",
    "diabetes = infer(network, diabetes_marg, [\"bp\", \"cholesterol\", \"bmi\"], [1, 1, 3])\n",
    "diabetes = diabetes.drop(\"diabetes\", 1)\n",
    "diabetes = diabetes.rename(columns={'probs':'Probability'})\n",
    "diabetes.insert(0, \"Diabetes\", diabetes_labels)\n",
    "display(diabetes)\n",
    "print()\n",
    "\n",
    "print(\"Stroke outcomes with poor health:\")\n",
    "stroke = infer(network, stroke_marg, [\"bp\", \"cholesterol\", \"bmi\"], [1, 1, 3])\n",
    "stroke = stroke.drop(\"stroke\", 1)\n",
    "stroke = stroke.rename(columns={'probs':'Probability'})\n",
    "stroke.insert(0, \"Stroke\", stroke_labels)\n",
    "display(stroke)\n",
    "print()\n",
    "\n",
    "print(\"Heart attack outcomes with poor health:\")\n",
    "heart_attack = infer(network, heart_attack_marg, [\"bp\", \"cholesterol\", \"bmi\"], [1, 1, 3])\n",
    "heart_attack = heart_attack.drop(\"attack\", 1)\n",
    "heart_attack = heart_attack.rename(columns={'probs':'Probability'})\n",
    "heart_attack.insert(0, \"Heart Attack\", stroke_labels)\n",
    "display(heart_attack)\n",
    "print()\n",
    "\n",
    "print(\"Angina outcomes with poor health:\")\n",
    "angina = infer(network, angina_marg, [\"bp\", \"cholesterol\", \"bmi\"], [1, 1, 3])\n",
    "angina = angina.drop(\"angina\", 1)\n",
    "angina = angina.rename(columns={'probs':'Probability'})\n",
    "angina.insert(0, \"Angina\", stroke_labels)\n",
    "display(angina)\n",
    "print()"
   ]
  },
  {
   "cell_type": "markdown",
   "metadata": {},
   "source": [
    "**2b. How about if I have good health (low blood pressure, low cholesterol, and normal weight)?**"
   ]
  },
  {
   "cell_type": "code",
   "execution_count": 62,
   "metadata": {},
   "outputs": [
    {
     "name": "stdout",
     "output_type": "stream",
     "text": [
      "Diabetes outcomes with good health:\n"
     ]
    },
    {
     "data": {
      "text/html": [
       "<div>\n",
       "<style>\n",
       "    .dataframe thead tr:only-child th {\n",
       "        text-align: right;\n",
       "    }\n",
       "\n",
       "    .dataframe thead th {\n",
       "        text-align: left;\n",
       "    }\n",
       "\n",
       "    .dataframe tbody tr th {\n",
       "        vertical-align: top;\n",
       "    }\n",
       "</style>\n",
       "<table border=\"1\" class=\"dataframe\">\n",
       "  <thead>\n",
       "    <tr style=\"text-align: right;\">\n",
       "      <th></th>\n",
       "      <th>Diabetes</th>\n",
       "      <th>Probability</th>\n",
       "    </tr>\n",
       "  </thead>\n",
       "  <tbody>\n",
       "    <tr>\n",
       "      <th>0</th>\n",
       "      <td>yes</td>\n",
       "      <td>0.061634</td>\n",
       "    </tr>\n",
       "    <tr>\n",
       "      <th>1</th>\n",
       "      <td>only during pregnancy</td>\n",
       "      <td>0.007800</td>\n",
       "    </tr>\n",
       "    <tr>\n",
       "      <th>2</th>\n",
       "      <td>no</td>\n",
       "      <td>0.919897</td>\n",
       "    </tr>\n",
       "    <tr>\n",
       "      <th>3</th>\n",
       "      <td>pre-diabetic</td>\n",
       "      <td>0.010668</td>\n",
       "    </tr>\n",
       "  </tbody>\n",
       "</table>\n",
       "</div>"
      ],
      "text/plain": [
       "                Diabetes  Probability\n",
       "0                    yes     0.061634\n",
       "1  only during pregnancy     0.007800\n",
       "2                     no     0.919897\n",
       "3           pre-diabetic     0.010668"
      ]
     },
     "metadata": {},
     "output_type": "display_data"
    },
    {
     "name": "stdout",
     "output_type": "stream",
     "text": [
      "\n",
      "Stroke outcomes with good health:\n"
     ]
    },
    {
     "data": {
      "text/html": [
       "<div>\n",
       "<style>\n",
       "    .dataframe thead tr:only-child th {\n",
       "        text-align: right;\n",
       "    }\n",
       "\n",
       "    .dataframe thead th {\n",
       "        text-align: left;\n",
       "    }\n",
       "\n",
       "    .dataframe tbody tr th {\n",
       "        vertical-align: top;\n",
       "    }\n",
       "</style>\n",
       "<table border=\"1\" class=\"dataframe\">\n",
       "  <thead>\n",
       "    <tr style=\"text-align: right;\">\n",
       "      <th></th>\n",
       "      <th>Stroke</th>\n",
       "      <th>Probability</th>\n",
       "    </tr>\n",
       "  </thead>\n",
       "  <tbody>\n",
       "    <tr>\n",
       "      <th>0</th>\n",
       "      <td>yes</td>\n",
       "      <td>0.01387</td>\n",
       "    </tr>\n",
       "    <tr>\n",
       "      <th>1</th>\n",
       "      <td>no</td>\n",
       "      <td>0.98613</td>\n",
       "    </tr>\n",
       "  </tbody>\n",
       "</table>\n",
       "</div>"
      ],
      "text/plain": [
       "  Stroke  Probability\n",
       "0    yes      0.01387\n",
       "1     no      0.98613"
      ]
     },
     "metadata": {},
     "output_type": "display_data"
    },
    {
     "name": "stdout",
     "output_type": "stream",
     "text": [
      "\n",
      "Heart attack outcomes with good health:\n"
     ]
    },
    {
     "data": {
      "text/html": [
       "<div>\n",
       "<style>\n",
       "    .dataframe thead tr:only-child th {\n",
       "        text-align: right;\n",
       "    }\n",
       "\n",
       "    .dataframe thead th {\n",
       "        text-align: left;\n",
       "    }\n",
       "\n",
       "    .dataframe tbody tr th {\n",
       "        vertical-align: top;\n",
       "    }\n",
       "</style>\n",
       "<table border=\"1\" class=\"dataframe\">\n",
       "  <thead>\n",
       "    <tr style=\"text-align: right;\">\n",
       "      <th></th>\n",
       "      <th>Heart Attack</th>\n",
       "      <th>Probability</th>\n",
       "    </tr>\n",
       "  </thead>\n",
       "  <tbody>\n",
       "    <tr>\n",
       "      <th>0</th>\n",
       "      <td>yes</td>\n",
       "      <td>0.015888</td>\n",
       "    </tr>\n",
       "    <tr>\n",
       "      <th>1</th>\n",
       "      <td>no</td>\n",
       "      <td>0.984112</td>\n",
       "    </tr>\n",
       "  </tbody>\n",
       "</table>\n",
       "</div>"
      ],
      "text/plain": [
       "  Heart Attack  Probability\n",
       "0          yes     0.015888\n",
       "1           no     0.984112"
      ]
     },
     "metadata": {},
     "output_type": "display_data"
    },
    {
     "name": "stdout",
     "output_type": "stream",
     "text": [
      "\n",
      "Angina outcomes with good health:\n"
     ]
    },
    {
     "data": {
      "text/html": [
       "<div>\n",
       "<style>\n",
       "    .dataframe thead tr:only-child th {\n",
       "        text-align: right;\n",
       "    }\n",
       "\n",
       "    .dataframe thead th {\n",
       "        text-align: left;\n",
       "    }\n",
       "\n",
       "    .dataframe tbody tr th {\n",
       "        vertical-align: top;\n",
       "    }\n",
       "</style>\n",
       "<table border=\"1\" class=\"dataframe\">\n",
       "  <thead>\n",
       "    <tr style=\"text-align: right;\">\n",
       "      <th></th>\n",
       "      <th>Angina</th>\n",
       "      <th>Probability</th>\n",
       "    </tr>\n",
       "  </thead>\n",
       "  <tbody>\n",
       "    <tr>\n",
       "      <th>0</th>\n",
       "      <td>yes</td>\n",
       "      <td>0.012839</td>\n",
       "    </tr>\n",
       "    <tr>\n",
       "      <th>1</th>\n",
       "      <td>no</td>\n",
       "      <td>0.987161</td>\n",
       "    </tr>\n",
       "  </tbody>\n",
       "</table>\n",
       "</div>"
      ],
      "text/plain": [
       "  Angina  Probability\n",
       "0    yes     0.012839\n",
       "1     no     0.987161"
      ]
     },
     "metadata": {},
     "output_type": "display_data"
    },
    {
     "name": "stdout",
     "output_type": "stream",
     "text": [
      "\n"
     ]
    }
   ],
   "source": [
    "print(\"Diabetes outcomes with good health:\")\n",
    "diabetes = infer(network, diabetes_marg, [\"bp\", \"cholesterol\", \"bmi\"], [3, 2, 2])\n",
    "diabetes = diabetes.drop(\"diabetes\", 1)\n",
    "diabetes = diabetes.rename(columns={'probs':'Probability'})\n",
    "diabetes.insert(0, \"Diabetes\", diabetes_labels)\n",
    "display(diabetes)\n",
    "print()\n",
    "\n",
    "print(\"Stroke outcomes with good health:\")\n",
    "stroke = infer(network, stroke_marg, [\"bp\", \"cholesterol\", \"bmi\"], [3, 2, 2])\n",
    "stroke = stroke.drop(\"stroke\", 1)\n",
    "stroke = stroke.rename(columns={'probs':'Probability'})\n",
    "stroke.insert(0, \"Stroke\", stroke_labels)\n",
    "display(stroke)\n",
    "print()\n",
    "\n",
    "print(\"Heart attack outcomes with good health:\")\n",
    "heart_attack = infer(network, heart_attack_marg, [\"bp\", \"cholesterol\", \"bmi\"], [3, 2, 2])\n",
    "heart_attack = heart_attack.drop(\"attack\", 1)\n",
    "heart_attack = heart_attack.rename(columns={'probs':'Probability'})\n",
    "heart_attack.insert(0, \"Heart Attack\", stroke_labels)\n",
    "display(heart_attack)\n",
    "print()\n",
    "\n",
    "print(\"Angina outcomes with good health:\")\n",
    "angina = infer(network, angina_marg, [\"bp\", \"cholesterol\", \"bmi\"], [3, 2, 2])\n",
    "angina = angina.drop(\"angina\", 1)\n",
    "angina = angina.rename(columns={'probs':'Probability'})\n",
    "angina.insert(0, \"Angina\", stroke_labels)\n",
    "display(angina)\n",
    "print()"
   ]
  },
  {
   "cell_type": "markdown",
   "metadata": {},
   "source": [
    "**3. Evaluate the effect a person's income has on their probability of having one of the four health outcomes. For each of these four outcomes, plot their probability given income status. What can you conclude?**"
   ]
  },
  {
   "cell_type": "code",
   "execution_count": 63,
   "metadata": {},
   "outputs": [
    {
     "data": {
      "text/plain": [
       "<matplotlib.axes._subplots.AxesSubplot at 0x1072e4f60>"
      ]
     },
     "execution_count": 63,
     "metadata": {},
     "output_type": "execute_result"
    },
    {
     "data": {
      "image/png": "[encoded data removed]",
      "text/plain": [
       "<matplotlib.figure.Figure at 0x10291f160>"
      ]
     },
     "metadata": {},
     "output_type": "display_data"
    }
   ],
   "source": [
    "marg = [x for x in diabetes_marg if x != \"income\"]\n",
    "diabetes = infer(network, marg, [\"diabetes\"], [1])\n",
    "marg = [x for x in stroke_marg if x != \"income\"]\n",
    "stroke = infer(network, marg, [\"stroke\"], [1])\n",
    "marg = [x for x in heart_attack_marg if x != \"income\"]\n",
    "heart_attack = infer(network, marg, [\"attack\"], [1])\n",
    "marg = [x for x in angina_marg if x != \"income\"]\n",
    "angina = infer(network, marg, [\"angina\"], [1])\n",
    "\n",
    "%matplotlib inline\n",
    "income_df = pd.DataFrame()\n",
    "income_df['Income Bracket'] = [1, 2, 3, 4, 5, 6, 7, 8]\n",
    "income_df['Diabetes'] = diabetes['probs']\n",
    "income_df['Stroke'] = stroke['probs']\n",
    "income_df['Heart Attack'] = heart_attack['probs']\n",
    "income_df['Angina'] = angina['probs']\n",
    "income_df.plot(x='Income Bracket', title=\"Health Complications Based On Tax Bracket\")"
   ]
  },
  {
   "cell_type": "code",
   "execution_count": null,
   "metadata": {
    "collapsed": true
   },
   "outputs": [],
   "source": []
  }
 ],
 "metadata": {
  "kernelspec": {
   "display_name": "Python 3",
   "language": "python",
   "name": "python3"
  },
  "language_info": {
   "codemirror_mode": {
    "name": "ipython",
    "version": 3
   },
   "file_extension": ".py",
   "mimetype": "text/x-python",
   "name": "python",
   "nbconvert_exporter": "python",
   "pygments_lexer": "ipython3",
   "version": "3.6.3"
  }
 },
 "nbformat": 4,
 "nbformat_minor": 2
}
